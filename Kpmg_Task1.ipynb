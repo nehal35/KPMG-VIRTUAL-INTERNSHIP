{
  "nbformat": 4,
  "nbformat_minor": 0,
  "metadata": {
    "colab": {
      "provenance": [],
      "mount_file_id": "1NISK4IV7npctA6NXaYRY2CQToKCdKwQf",
      "authorship_tag": "ABX9TyMdzt9nAOSZYPRXqF57tzXU",
      "include_colab_link": true
    },
    "kernelspec": {
      "name": "python3",
      "display_name": "Python 3"
    },
    "language_info": {
      "name": "python"
    }
  },
  "cells": [
    {
      "cell_type": "markdown",
      "metadata": {
        "id": "view-in-github",
        "colab_type": "text"
      },
      "source": [
        "<a href=\"https://colab.research.google.com/github/nehal35/KPMG-VIRTUAL-INTERNSHIP/blob/main/Kpmg_Task1.ipynb\" target=\"_parent\"><img src=\"https://colab.research.google.com/assets/colab-badge.svg\" alt=\"Open In Colab\"/></a>"
      ]
    },
    {
      "cell_type": "markdown",
      "source": [
        "#**KPMG VIRTUAL INTERNSHIP PROJECT**\n",
        "##**TASK: 1 - Data Quality Assessment**\n",
        "###**Assessment of data quality and completeness in preparation for analysis.**\n",
        "####**The client provided KPMG with 3 datasets:**\n",
        "\n",
        "####**1.Customer Demographic**\n",
        "\n",
        "####**2.Customer Addresses**\n",
        "\n",
        "####**3.Transactions data in the past 3 months**"
      ],
      "metadata": {
        "id": "buuUjxZZxdm8"
      }
    },
    {
      "cell_type": "code",
      "source": [
        "# Importing the required libraries\n",
        "import pandas as pd"
      ],
      "metadata": {
        "id": "y5NVZj_NyRWK"
      },
      "execution_count": null,
      "outputs": []
    },
    {
      "cell_type": "markdown",
      "source": [
        "## **Reading the data**"
      ],
      "metadata": {
        "id": "v5h2YVS4yVy2"
      }
    },
    {
      "cell_type": "code",
      "source": [
        "data = pd.ExcelFile(\"/content/drive/MyDrive/kpmg/raw data/KPMG_VI_New_raw_data_update_final (4).xlsx\")"
      ],
      "metadata": {
        "id": "yECSyUuzyfZr"
      },
      "execution_count": null,
      "outputs": []
    },
    {
      "cell_type": "markdown",
      "source": [
        "# **Reading each file separately**"
      ],
      "metadata": {
        "id": "nwt2ei4kzwX_"
      }
    },
    {
      "cell_type": "code",
      "source": [
        "Transactions = pd.read_excel(data, 'Transactions')\n",
        "NewCustomerList = pd.read_excel(data, 'NewCustomerList')\n",
        "CustomerDemographic = pd.read_excel(data, 'CustomerDemographic')\n",
        "CustomerAddress = pd.read_excel(data, 'CustomerAddress')"
      ],
      "metadata": {
        "colab": {
          "base_uri": "https://localhost:8080/"
        },
        "id": "4dqYt0LNz0SU",
        "outputId": "081e2d05-313d-4a81-a7b7-fd28aad3faa3"
      },
      "execution_count": null,
      "outputs": [
        {
          "output_type": "stream",
          "name": "stderr",
          "text": [
            "<ipython-input-4-7e31c9dbc7f2>:2: FutureWarning: Inferring datetime64[ns] from data containing strings is deprecated and will be removed in a future version. To retain the old behavior explicitly pass Series(data, dtype={value.dtype})\n",
            "  NewCustomerList = pd.read_excel(data, 'NewCustomerList')\n",
            "<ipython-input-4-7e31c9dbc7f2>:3: FutureWarning: Inferring datetime64[ns] from data containing strings is deprecated and will be removed in a future version. To retain the old behavior explicitly pass Series(data, dtype={value.dtype})\n",
            "  CustomerDemographic = pd.read_excel(data, 'CustomerDemographic')\n"
          ]
        }
      ]
    },
    {
      "cell_type": "markdown",
      "source": [
        "## **Exploring Transactions Data Set**"
      ],
      "metadata": {
        "id": "RTVibhSWz8ml"
      }
    },
    {
      "cell_type": "code",
      "source": [
        "Transactions.head(5)"
      ],
      "metadata": {
        "colab": {
          "base_uri": "https://localhost:8080/",
          "height": 339
        },
        "id": "sBWP5G1xz_9T",
        "outputId": "73e90a88-5ed1-47c3-80ba-cf84ad91d48b"
      },
      "execution_count": null,
      "outputs": [
        {
          "output_type": "execute_result",
          "data": {
            "text/plain": [
              "   transaction_id  product_id  customer_id transaction_date  online_order  \\\n",
              "0             1.0         2.0       2950.0       2017-02-25           0.0   \n",
              "1             2.0         3.0       3120.0       2017-05-21           1.0   \n",
              "2             3.0        37.0        402.0       2017-10-16           0.0   \n",
              "3             4.0        88.0       3135.0       2017-08-31           0.0   \n",
              "4             5.0        78.0        787.0       2017-10-01           1.0   \n",
              "\n",
              "  order_status           brand product_line product_class product_size  \\\n",
              "0     Approved           Solex     Standard        medium       medium   \n",
              "1     Approved   Trek Bicycles     Standard        medium        large   \n",
              "2     Approved      OHM Cycles     Standard           low       medium   \n",
              "3     Approved  Norco Bicycles     Standard        medium       medium   \n",
              "4     Approved  Giant Bicycles     Standard        medium        large   \n",
              "\n",
              "   list_price  standard_cost  product_first_sold_date  \n",
              "0       71.49          53.62                  41245.0  \n",
              "1     2091.47         388.92                  41701.0  \n",
              "2     1793.43         248.82                  36361.0  \n",
              "3     1198.46         381.10                  36145.0  \n",
              "4     1765.30         709.48                  42226.0  "
            ],
            "text/html": [
              "\n",
              "  <div id=\"df-7a71951b-e526-4488-a503-81bd88859503\">\n",
              "    <div class=\"colab-df-container\">\n",
              "      <div>\n",
              "<style scoped>\n",
              "    .dataframe tbody tr th:only-of-type {\n",
              "        vertical-align: middle;\n",
              "    }\n",
              "\n",
              "    .dataframe tbody tr th {\n",
              "        vertical-align: top;\n",
              "    }\n",
              "\n",
              "    .dataframe thead th {\n",
              "        text-align: right;\n",
              "    }\n",
              "</style>\n",
              "<table border=\"1\" class=\"dataframe\">\n",
              "  <thead>\n",
              "    <tr style=\"text-align: right;\">\n",
              "      <th></th>\n",
              "      <th>transaction_id</th>\n",
              "      <th>product_id</th>\n",
              "      <th>customer_id</th>\n",
              "      <th>transaction_date</th>\n",
              "      <th>online_order</th>\n",
              "      <th>order_status</th>\n",
              "      <th>brand</th>\n",
              "      <th>product_line</th>\n",
              "      <th>product_class</th>\n",
              "      <th>product_size</th>\n",
              "      <th>list_price</th>\n",
              "      <th>standard_cost</th>\n",
              "      <th>product_first_sold_date</th>\n",
              "    </tr>\n",
              "  </thead>\n",
              "  <tbody>\n",
              "    <tr>\n",
              "      <th>0</th>\n",
              "      <td>1.0</td>\n",
              "      <td>2.0</td>\n",
              "      <td>2950.0</td>\n",
              "      <td>2017-02-25</td>\n",
              "      <td>0.0</td>\n",
              "      <td>Approved</td>\n",
              "      <td>Solex</td>\n",
              "      <td>Standard</td>\n",
              "      <td>medium</td>\n",
              "      <td>medium</td>\n",
              "      <td>71.49</td>\n",
              "      <td>53.62</td>\n",
              "      <td>41245.0</td>\n",
              "    </tr>\n",
              "    <tr>\n",
              "      <th>1</th>\n",
              "      <td>2.0</td>\n",
              "      <td>3.0</td>\n",
              "      <td>3120.0</td>\n",
              "      <td>2017-05-21</td>\n",
              "      <td>1.0</td>\n",
              "      <td>Approved</td>\n",
              "      <td>Trek Bicycles</td>\n",
              "      <td>Standard</td>\n",
              "      <td>medium</td>\n",
              "      <td>large</td>\n",
              "      <td>2091.47</td>\n",
              "      <td>388.92</td>\n",
              "      <td>41701.0</td>\n",
              "    </tr>\n",
              "    <tr>\n",
              "      <th>2</th>\n",
              "      <td>3.0</td>\n",
              "      <td>37.0</td>\n",
              "      <td>402.0</td>\n",
              "      <td>2017-10-16</td>\n",
              "      <td>0.0</td>\n",
              "      <td>Approved</td>\n",
              "      <td>OHM Cycles</td>\n",
              "      <td>Standard</td>\n",
              "      <td>low</td>\n",
              "      <td>medium</td>\n",
              "      <td>1793.43</td>\n",
              "      <td>248.82</td>\n",
              "      <td>36361.0</td>\n",
              "    </tr>\n",
              "    <tr>\n",
              "      <th>3</th>\n",
              "      <td>4.0</td>\n",
              "      <td>88.0</td>\n",
              "      <td>3135.0</td>\n",
              "      <td>2017-08-31</td>\n",
              "      <td>0.0</td>\n",
              "      <td>Approved</td>\n",
              "      <td>Norco Bicycles</td>\n",
              "      <td>Standard</td>\n",
              "      <td>medium</td>\n",
              "      <td>medium</td>\n",
              "      <td>1198.46</td>\n",
              "      <td>381.10</td>\n",
              "      <td>36145.0</td>\n",
              "    </tr>\n",
              "    <tr>\n",
              "      <th>4</th>\n",
              "      <td>5.0</td>\n",
              "      <td>78.0</td>\n",
              "      <td>787.0</td>\n",
              "      <td>2017-10-01</td>\n",
              "      <td>1.0</td>\n",
              "      <td>Approved</td>\n",
              "      <td>Giant Bicycles</td>\n",
              "      <td>Standard</td>\n",
              "      <td>medium</td>\n",
              "      <td>large</td>\n",
              "      <td>1765.30</td>\n",
              "      <td>709.48</td>\n",
              "      <td>42226.0</td>\n",
              "    </tr>\n",
              "  </tbody>\n",
              "</table>\n",
              "</div>\n",
              "      <button class=\"colab-df-convert\" onclick=\"convertToInteractive('df-7a71951b-e526-4488-a503-81bd88859503')\"\n",
              "              title=\"Convert this dataframe to an interactive table.\"\n",
              "              style=\"display:none;\">\n",
              "        \n",
              "  <svg xmlns=\"http://www.w3.org/2000/svg\" height=\"24px\"viewBox=\"0 0 24 24\"\n",
              "       width=\"24px\">\n",
              "    <path d=\"M0 0h24v24H0V0z\" fill=\"none\"/>\n",
              "    <path d=\"M18.56 5.44l.94 2.06.94-2.06 2.06-.94-2.06-.94-.94-2.06-.94 2.06-2.06.94zm-11 1L8.5 8.5l.94-2.06 2.06-.94-2.06-.94L8.5 2.5l-.94 2.06-2.06.94zm10 10l.94 2.06.94-2.06 2.06-.94-2.06-.94-.94-2.06-.94 2.06-2.06.94z\"/><path d=\"M17.41 7.96l-1.37-1.37c-.4-.4-.92-.59-1.43-.59-.52 0-1.04.2-1.43.59L10.3 9.45l-7.72 7.72c-.78.78-.78 2.05 0 2.83L4 21.41c.39.39.9.59 1.41.59.51 0 1.02-.2 1.41-.59l7.78-7.78 2.81-2.81c.8-.78.8-2.07 0-2.86zM5.41 20L4 18.59l7.72-7.72 1.47 1.35L5.41 20z\"/>\n",
              "  </svg>\n",
              "      </button>\n",
              "      \n",
              "  <style>\n",
              "    .colab-df-container {\n",
              "      display:flex;\n",
              "      flex-wrap:wrap;\n",
              "      gap: 12px;\n",
              "    }\n",
              "\n",
              "    .colab-df-convert {\n",
              "      background-color: #E8F0FE;\n",
              "      border: none;\n",
              "      border-radius: 50%;\n",
              "      cursor: pointer;\n",
              "      display: none;\n",
              "      fill: #1967D2;\n",
              "      height: 32px;\n",
              "      padding: 0 0 0 0;\n",
              "      width: 32px;\n",
              "    }\n",
              "\n",
              "    .colab-df-convert:hover {\n",
              "      background-color: #E2EBFA;\n",
              "      box-shadow: 0px 1px 2px rgba(60, 64, 67, 0.3), 0px 1px 3px 1px rgba(60, 64, 67, 0.15);\n",
              "      fill: #174EA6;\n",
              "    }\n",
              "\n",
              "    [theme=dark] .colab-df-convert {\n",
              "      background-color: #3B4455;\n",
              "      fill: #D2E3FC;\n",
              "    }\n",
              "\n",
              "    [theme=dark] .colab-df-convert:hover {\n",
              "      background-color: #434B5C;\n",
              "      box-shadow: 0px 1px 3px 1px rgba(0, 0, 0, 0.15);\n",
              "      filter: drop-shadow(0px 1px 2px rgba(0, 0, 0, 0.3));\n",
              "      fill: #FFFFFF;\n",
              "    }\n",
              "  </style>\n",
              "\n",
              "      <script>\n",
              "        const buttonEl =\n",
              "          document.querySelector('#df-7a71951b-e526-4488-a503-81bd88859503 button.colab-df-convert');\n",
              "        buttonEl.style.display =\n",
              "          google.colab.kernel.accessAllowed ? 'block' : 'none';\n",
              "\n",
              "        async function convertToInteractive(key) {\n",
              "          const element = document.querySelector('#df-7a71951b-e526-4488-a503-81bd88859503');\n",
              "          const dataTable =\n",
              "            await google.colab.kernel.invokeFunction('convertToInteractive',\n",
              "                                                     [key], {});\n",
              "          if (!dataTable) return;\n",
              "\n",
              "          const docLinkHtml = 'Like what you see? Visit the ' +\n",
              "            '<a target=\"_blank\" href=https://colab.research.google.com/notebooks/data_table.ipynb>data table notebook</a>'\n",
              "            + ' to learn more about interactive tables.';\n",
              "          element.innerHTML = '';\n",
              "          dataTable['output_type'] = 'display_data';\n",
              "          await google.colab.output.renderOutput(dataTable, element);\n",
              "          const docLink = document.createElement('div');\n",
              "          docLink.innerHTML = docLinkHtml;\n",
              "          element.appendChild(docLink);\n",
              "        }\n",
              "      </script>\n",
              "    </div>\n",
              "  </div>\n",
              "  "
            ]
          },
          "metadata": {},
          "execution_count": 5
        }
      ]
    },
    {
      "cell_type": "code",
      "source": [
        "Transactions.info()"
      ],
      "metadata": {
        "colab": {
          "base_uri": "https://localhost:8080/"
        },
        "id": "SM7YDj1S3PHZ",
        "outputId": "e1f3d214-68c6-4e2a-8672-e0539a66824b"
      },
      "execution_count": null,
      "outputs": [
        {
          "output_type": "stream",
          "name": "stdout",
          "text": [
            "<class 'pandas.core.frame.DataFrame'>\n",
            "RangeIndex: 20000 entries, 0 to 19999\n",
            "Data columns (total 13 columns):\n",
            " #   Column                   Non-Null Count  Dtype         \n",
            "---  ------                   --------------  -----         \n",
            " 0   transaction_id           20000 non-null  float64       \n",
            " 1   product_id               20000 non-null  float64       \n",
            " 2   customer_id              20000 non-null  float64       \n",
            " 3   transaction_date         20000 non-null  datetime64[ns]\n",
            " 4   online_order             19640 non-null  float64       \n",
            " 5   order_status             20000 non-null  object        \n",
            " 6   brand                    19803 non-null  object        \n",
            " 7   product_line             19803 non-null  object        \n",
            " 8   product_class            19803 non-null  object        \n",
            " 9   product_size             19803 non-null  object        \n",
            " 10  list_price               20000 non-null  float64       \n",
            " 11  standard_cost            19803 non-null  float64       \n",
            " 12  product_first_sold_date  19803 non-null  float64       \n",
            "dtypes: datetime64[ns](1), float64(7), object(5)\n",
            "memory usage: 2.0+ MB\n"
          ]
        }
      ]
    },
    {
      "cell_type": "code",
      "source": [
        "#Checking the shape of the data\n",
        "Transactions.shape"
      ],
      "metadata": {
        "colab": {
          "base_uri": "https://localhost:8080/"
        },
        "id": "G62iMqyy3Yu9",
        "outputId": "18cc4608-50a9-43ce-fb5b-c2251dde53fe"
      },
      "execution_count": null,
      "outputs": [
        {
          "output_type": "execute_result",
          "data": {
            "text/plain": [
              "(20000, 13)"
            ]
          },
          "metadata": {},
          "execution_count": 7
        }
      ]
    },
    {
      "cell_type": "code",
      "source": [
        "#Checking for null values\n",
        "Transactions.isnull().sum()"
      ],
      "metadata": {
        "colab": {
          "base_uri": "https://localhost:8080/"
        },
        "id": "y8Nc-BoH3qls",
        "outputId": "087e95b2-c4a4-4514-ef94-9e8ea98b1171"
      },
      "execution_count": null,
      "outputs": [
        {
          "output_type": "execute_result",
          "data": {
            "text/plain": [
              "transaction_id               0\n",
              "product_id                   0\n",
              "customer_id                  0\n",
              "transaction_date             0\n",
              "online_order               360\n",
              "order_status                 0\n",
              "brand                      197\n",
              "product_line               197\n",
              "product_class              197\n",
              "product_size               197\n",
              "list_price                   0\n",
              "standard_cost              197\n",
              "product_first_sold_date    197\n",
              "dtype: int64"
            ]
          },
          "metadata": {},
          "execution_count": 8
        }
      ]
    },
    {
      "cell_type": "markdown",
      "source": [
        "**There are missing values in 7 columns. They can be dropped or treated according to the nature of analysis**"
      ],
      "metadata": {
        "id": "figztSeE3v5V"
      }
    },
    {
      "cell_type": "code",
      "source": [
        "#Checking for duplicate values\n",
        "Transactions.duplicated().sum()"
      ],
      "metadata": {
        "colab": {
          "base_uri": "https://localhost:8080/"
        },
        "id": "UYay64g032YB",
        "outputId": "883535d0-f2c3-43a9-f117-fc3c55d4b1c8"
      },
      "execution_count": null,
      "outputs": [
        {
          "output_type": "execute_result",
          "data": {
            "text/plain": [
              "0"
            ]
          },
          "metadata": {},
          "execution_count": 9
        }
      ]
    },
    {
      "cell_type": "markdown",
      "source": [
        "**There are no duplicate values, so the data is unique**"
      ],
      "metadata": {
        "id": "CmHZdFg136uY"
      }
    },
    {
      "cell_type": "code",
      "source": [
        "#check for uniqueness of each column\n",
        "Transactions.nunique() "
      ],
      "metadata": {
        "colab": {
          "base_uri": "https://localhost:8080/"
        },
        "id": "c4No1cmI4CUY",
        "outputId": "aa3a8853-dbe2-41b4-9cee-48b906a5286f"
      },
      "execution_count": null,
      "outputs": [
        {
          "output_type": "execute_result",
          "data": {
            "text/plain": [
              "transaction_id             20000\n",
              "product_id                   101\n",
              "customer_id                 3494\n",
              "transaction_date             364\n",
              "online_order                   2\n",
              "order_status                   2\n",
              "brand                          6\n",
              "product_line                   4\n",
              "product_class                  3\n",
              "product_size                   3\n",
              "list_price                   296\n",
              "standard_cost                103\n",
              "product_first_sold_date      100\n",
              "dtype: int64"
            ]
          },
          "metadata": {},
          "execution_count": 10
        }
      ]
    },
    {
      "cell_type": "markdown",
      "source": [
        "# **Exploring the columns**"
      ],
      "metadata": {
        "id": "zgbQ6wDw4G1M"
      }
    },
    {
      "cell_type": "code",
      "source": [
        "Transactions.columns"
      ],
      "metadata": {
        "colab": {
          "base_uri": "https://localhost:8080/"
        },
        "id": "FawMfYPt4I2L",
        "outputId": "edca69b7-2213-491b-985b-815a0884d893"
      },
      "execution_count": null,
      "outputs": [
        {
          "output_type": "execute_result",
          "data": {
            "text/plain": [
              "Index(['transaction_id', 'product_id', 'customer_id', 'transaction_date',\n",
              "       'online_order', 'order_status', 'brand', 'product_line',\n",
              "       'product_class', 'product_size', 'list_price', 'standard_cost',\n",
              "       'product_first_sold_date'],\n",
              "      dtype='object')"
            ]
          },
          "metadata": {},
          "execution_count": 11
        }
      ]
    },
    {
      "cell_type": "code",
      "source": [
        "Transactions['order_status'].value_counts()"
      ],
      "metadata": {
        "colab": {
          "base_uri": "https://localhost:8080/"
        },
        "id": "zgHQ2ZP94NLU",
        "outputId": "5a891c2c-127e-48a6-adb9-0738ecf276f9"
      },
      "execution_count": null,
      "outputs": [
        {
          "output_type": "execute_result",
          "data": {
            "text/plain": [
              "Approved     19821\n",
              "Cancelled      179\n",
              "Name: order_status, dtype: int64"
            ]
          },
          "metadata": {},
          "execution_count": 12
        }
      ]
    },
    {
      "cell_type": "code",
      "source": [
        "Transactions['brand'].value_counts()"
      ],
      "metadata": {
        "colab": {
          "base_uri": "https://localhost:8080/"
        },
        "id": "f62fkMnd4Rdh",
        "outputId": "bf208899-0f20-4adf-ee7b-af3fe33cad98"
      },
      "execution_count": null,
      "outputs": [
        {
          "output_type": "execute_result",
          "data": {
            "text/plain": [
              "Solex             4253\n",
              "Giant Bicycles    3312\n",
              "WeareA2B          3295\n",
              "OHM Cycles        3043\n",
              "Trek Bicycles     2990\n",
              "Norco Bicycles    2910\n",
              "Name: brand, dtype: int64"
            ]
          },
          "metadata": {},
          "execution_count": 13
        }
      ]
    },
    {
      "cell_type": "code",
      "source": [
        "Transactions['product_line'].value_counts()"
      ],
      "metadata": {
        "colab": {
          "base_uri": "https://localhost:8080/"
        },
        "id": "BoGgqBbZ4UkB",
        "outputId": "07605d8b-7201-4434-c57f-db8f2118c447"
      },
      "execution_count": null,
      "outputs": [
        {
          "output_type": "execute_result",
          "data": {
            "text/plain": [
              "Standard    14176\n",
              "Road         3970\n",
              "Touring      1234\n",
              "Mountain      423\n",
              "Name: product_line, dtype: int64"
            ]
          },
          "metadata": {},
          "execution_count": 14
        }
      ]
    },
    {
      "cell_type": "code",
      "source": [
        "Transactions['product_class'].value_counts()"
      ],
      "metadata": {
        "colab": {
          "base_uri": "https://localhost:8080/"
        },
        "id": "jIxYErBv4XWW",
        "outputId": "ae4c7638-0cac-4ada-d134-3a382f124e05"
      },
      "execution_count": null,
      "outputs": [
        {
          "output_type": "execute_result",
          "data": {
            "text/plain": [
              "medium    13826\n",
              "high       3013\n",
              "low        2964\n",
              "Name: product_class, dtype: int64"
            ]
          },
          "metadata": {},
          "execution_count": 15
        }
      ]
    },
    {
      "cell_type": "code",
      "source": [
        "Transactions['product_size'].value_counts()"
      ],
      "metadata": {
        "colab": {
          "base_uri": "https://localhost:8080/"
        },
        "id": "rNvLtlKe4ZY6",
        "outputId": "b0d5e24c-d688-4d68-f03c-4c3b30433f07"
      },
      "execution_count": null,
      "outputs": [
        {
          "output_type": "execute_result",
          "data": {
            "text/plain": [
              "medium    12990\n",
              "large      3976\n",
              "small      2837\n",
              "Name: product_size, dtype: int64"
            ]
          },
          "metadata": {},
          "execution_count": 16
        }
      ]
    },
    {
      "cell_type": "code",
      "source": [
        "Transactions['product_first_sold_date']"
      ],
      "metadata": {
        "colab": {
          "base_uri": "https://localhost:8080/"
        },
        "id": "WDyJgxku4eCD",
        "outputId": "910d5973-7e8c-4f8b-f070-5b5123a3284d"
      },
      "execution_count": null,
      "outputs": [
        {
          "output_type": "execute_result",
          "data": {
            "text/plain": [
              "0        41245.0\n",
              "1        41701.0\n",
              "2        36361.0\n",
              "3        36145.0\n",
              "4        42226.0\n",
              "          ...   \n",
              "19995    37823.0\n",
              "19996    35560.0\n",
              "19997    40410.0\n",
              "19998    38216.0\n",
              "19999    36334.0\n",
              "Name: product_first_sold_date, Length: 20000, dtype: float64"
            ]
          },
          "metadata": {},
          "execution_count": 17
        }
      ]
    },
    {
      "cell_type": "code",
      "source": [
        "#convert date column from integer to datetime\n",
        "Transactions['product_first_sold_date'] = pd.to_datetime(Transactions['product_first_sold_date'], unit='s')\n",
        "Transactions['product_first_sold_date'].head()"
      ],
      "metadata": {
        "colab": {
          "base_uri": "https://localhost:8080/"
        },
        "id": "ZVeYlDP44jve",
        "outputId": "be88269e-b282-45cb-acd4-1d6fb2443a9c"
      },
      "execution_count": null,
      "outputs": [
        {
          "output_type": "execute_result",
          "data": {
            "text/plain": [
              "0   1970-01-01 11:27:25\n",
              "1   1970-01-01 11:35:01\n",
              "2   1970-01-01 10:06:01\n",
              "3   1970-01-01 10:02:25\n",
              "4   1970-01-01 11:43:46\n",
              "Name: product_first_sold_date, dtype: datetime64[ns]"
            ]
          },
          "metadata": {},
          "execution_count": 18
        }
      ]
    },
    {
      "cell_type": "code",
      "source": [
        "Transactions['product_first_sold_date'].head(20)"
      ],
      "metadata": {
        "colab": {
          "base_uri": "https://localhost:8080/"
        },
        "id": "tUBD2kiK4pnL",
        "outputId": "dc188db6-5b8a-4357-fc9d-78eeb1eb9018"
      },
      "execution_count": null,
      "outputs": [
        {
          "output_type": "execute_result",
          "data": {
            "text/plain": [
              "0    1970-01-01 11:27:25\n",
              "1    1970-01-01 11:35:01\n",
              "2    1970-01-01 10:06:01\n",
              "3    1970-01-01 10:02:25\n",
              "4    1970-01-01 11:43:46\n",
              "5    1970-01-01 10:50:31\n",
              "6    1970-01-01 09:29:25\n",
              "7    1970-01-01 11:05:15\n",
              "8    1970-01-01 09:17:35\n",
              "9    1970-01-01 10:36:56\n",
              "10   1970-01-01 11:19:44\n",
              "11   1970-01-01 11:42:52\n",
              "12   1970-01-01 09:35:27\n",
              "13   1970-01-01 09:36:26\n",
              "14   1970-01-01 10:36:33\n",
              "15   1970-01-01 10:31:13\n",
              "16   1970-01-01 10:36:46\n",
              "17   1970-01-01 09:24:48\n",
              "18   1970-01-01 11:05:15\n",
              "19   1970-01-01 10:22:17\n",
              "Name: product_first_sold_date, dtype: datetime64[ns]"
            ]
          },
          "metadata": {},
          "execution_count": 19
        }
      ]
    },
    {
      "cell_type": "markdown",
      "source": [
        "### The values in the **product_first_sold_date** columns are not correct as it shows everything happening the same day at different times."
      ],
      "metadata": {
        "id": "bcdGtCkE4tgW"
      }
    },
    {
      "cell_type": "markdown",
      "source": [
        "## **Exploring New Customer List Data Set**"
      ],
      "metadata": {
        "id": "FziEPUZy41p_"
      }
    },
    {
      "cell_type": "code",
      "source": [
        "NewCustomerList.head(5)"
      ],
      "metadata": {
        "colab": {
          "base_uri": "https://localhost:8080/",
          "height": 421
        },
        "id": "ncRSiSSX5BSs",
        "outputId": "f3256b57-1d7e-4f68-fd33-e5682065cd73"
      },
      "execution_count": null,
      "outputs": [
        {
          "output_type": "execute_result",
          "data": {
            "text/plain": [
              "  first_name  last_name  gender  past_3_years_bike_related_purchases  \\\n",
              "0    Chickie    Brister    Male                                   86   \n",
              "1      Morly     Genery    Male                                   69   \n",
              "2    Ardelis  Forrester  Female                                   10   \n",
              "3     Lucine      Stutt  Female                                   64   \n",
              "4    Melinda     Hadlee  Female                                   34   \n",
              "\n",
              "         DOB                   job_title job_industry_category  \\\n",
              "0 1957-07-12             General Manager         Manufacturing   \n",
              "1 1970-03-22         Structural Engineer              Property   \n",
              "2 1974-08-28      Senior Cost Accountant    Financial Services   \n",
              "3 1979-01-28  Account Representative III         Manufacturing   \n",
              "4 1965-09-21           Financial Analyst    Financial Services   \n",
              "\n",
              "      wealth_segment deceased_indicator owns_car  ...  state    country  \\\n",
              "0      Mass Customer                  N      Yes  ...    QLD  Australia   \n",
              "1      Mass Customer                  N       No  ...    NSW  Australia   \n",
              "2  Affluent Customer                  N       No  ...    VIC  Australia   \n",
              "3  Affluent Customer                  N      Yes  ...    QLD  Australia   \n",
              "4  Affluent Customer                  N       No  ...    NSW  Australia   \n",
              "\n",
              "   property_valuation Unnamed: 16 Unnamed: 17  Unnamed: 18  Unnamed: 19  \\\n",
              "0                 6.0        0.63      0.7875     0.984375     0.836719   \n",
              "1                11.0        0.66      0.6600     0.825000     0.701250   \n",
              "2                 5.0        0.60      0.6000     0.600000     0.600000   \n",
              "3                 1.0        0.45      0.5625     0.562500     0.562500   \n",
              "4                 9.0        0.81      0.8100     1.012500     1.012500   \n",
              "\n",
              "   Unnamed: 20  Rank     Value  \n",
              "0            1   1.0  1.718750  \n",
              "1            1   1.0  1.718750  \n",
              "2            1   1.0  1.718750  \n",
              "3            4   4.0  1.703125  \n",
              "4            4   4.0  1.703125  \n",
              "\n",
              "[5 rows x 23 columns]"
            ],
            "text/html": [
              "\n",
              "  <div id=\"df-8201b7d3-4e6d-47ff-aeaf-144684742db8\">\n",
              "    <div class=\"colab-df-container\">\n",
              "      <div>\n",
              "<style scoped>\n",
              "    .dataframe tbody tr th:only-of-type {\n",
              "        vertical-align: middle;\n",
              "    }\n",
              "\n",
              "    .dataframe tbody tr th {\n",
              "        vertical-align: top;\n",
              "    }\n",
              "\n",
              "    .dataframe thead th {\n",
              "        text-align: right;\n",
              "    }\n",
              "</style>\n",
              "<table border=\"1\" class=\"dataframe\">\n",
              "  <thead>\n",
              "    <tr style=\"text-align: right;\">\n",
              "      <th></th>\n",
              "      <th>first_name</th>\n",
              "      <th>last_name</th>\n",
              "      <th>gender</th>\n",
              "      <th>past_3_years_bike_related_purchases</th>\n",
              "      <th>DOB</th>\n",
              "      <th>job_title</th>\n",
              "      <th>job_industry_category</th>\n",
              "      <th>wealth_segment</th>\n",
              "      <th>deceased_indicator</th>\n",
              "      <th>owns_car</th>\n",
              "      <th>...</th>\n",
              "      <th>state</th>\n",
              "      <th>country</th>\n",
              "      <th>property_valuation</th>\n",
              "      <th>Unnamed: 16</th>\n",
              "      <th>Unnamed: 17</th>\n",
              "      <th>Unnamed: 18</th>\n",
              "      <th>Unnamed: 19</th>\n",
              "      <th>Unnamed: 20</th>\n",
              "      <th>Rank</th>\n",
              "      <th>Value</th>\n",
              "    </tr>\n",
              "  </thead>\n",
              "  <tbody>\n",
              "    <tr>\n",
              "      <th>0</th>\n",
              "      <td>Chickie</td>\n",
              "      <td>Brister</td>\n",
              "      <td>Male</td>\n",
              "      <td>86</td>\n",
              "      <td>1957-07-12</td>\n",
              "      <td>General Manager</td>\n",
              "      <td>Manufacturing</td>\n",
              "      <td>Mass Customer</td>\n",
              "      <td>N</td>\n",
              "      <td>Yes</td>\n",
              "      <td>...</td>\n",
              "      <td>QLD</td>\n",
              "      <td>Australia</td>\n",
              "      <td>6.0</td>\n",
              "      <td>0.63</td>\n",
              "      <td>0.7875</td>\n",
              "      <td>0.984375</td>\n",
              "      <td>0.836719</td>\n",
              "      <td>1</td>\n",
              "      <td>1.0</td>\n",
              "      <td>1.718750</td>\n",
              "    </tr>\n",
              "    <tr>\n",
              "      <th>1</th>\n",
              "      <td>Morly</td>\n",
              "      <td>Genery</td>\n",
              "      <td>Male</td>\n",
              "      <td>69</td>\n",
              "      <td>1970-03-22</td>\n",
              "      <td>Structural Engineer</td>\n",
              "      <td>Property</td>\n",
              "      <td>Mass Customer</td>\n",
              "      <td>N</td>\n",
              "      <td>No</td>\n",
              "      <td>...</td>\n",
              "      <td>NSW</td>\n",
              "      <td>Australia</td>\n",
              "      <td>11.0</td>\n",
              "      <td>0.66</td>\n",
              "      <td>0.6600</td>\n",
              "      <td>0.825000</td>\n",
              "      <td>0.701250</td>\n",
              "      <td>1</td>\n",
              "      <td>1.0</td>\n",
              "      <td>1.718750</td>\n",
              "    </tr>\n",
              "    <tr>\n",
              "      <th>2</th>\n",
              "      <td>Ardelis</td>\n",
              "      <td>Forrester</td>\n",
              "      <td>Female</td>\n",
              "      <td>10</td>\n",
              "      <td>1974-08-28</td>\n",
              "      <td>Senior Cost Accountant</td>\n",
              "      <td>Financial Services</td>\n",
              "      <td>Affluent Customer</td>\n",
              "      <td>N</td>\n",
              "      <td>No</td>\n",
              "      <td>...</td>\n",
              "      <td>VIC</td>\n",
              "      <td>Australia</td>\n",
              "      <td>5.0</td>\n",
              "      <td>0.60</td>\n",
              "      <td>0.6000</td>\n",
              "      <td>0.600000</td>\n",
              "      <td>0.600000</td>\n",
              "      <td>1</td>\n",
              "      <td>1.0</td>\n",
              "      <td>1.718750</td>\n",
              "    </tr>\n",
              "    <tr>\n",
              "      <th>3</th>\n",
              "      <td>Lucine</td>\n",
              "      <td>Stutt</td>\n",
              "      <td>Female</td>\n",
              "      <td>64</td>\n",
              "      <td>1979-01-28</td>\n",
              "      <td>Account Representative III</td>\n",
              "      <td>Manufacturing</td>\n",
              "      <td>Affluent Customer</td>\n",
              "      <td>N</td>\n",
              "      <td>Yes</td>\n",
              "      <td>...</td>\n",
              "      <td>QLD</td>\n",
              "      <td>Australia</td>\n",
              "      <td>1.0</td>\n",
              "      <td>0.45</td>\n",
              "      <td>0.5625</td>\n",
              "      <td>0.562500</td>\n",
              "      <td>0.562500</td>\n",
              "      <td>4</td>\n",
              "      <td>4.0</td>\n",
              "      <td>1.703125</td>\n",
              "    </tr>\n",
              "    <tr>\n",
              "      <th>4</th>\n",
              "      <td>Melinda</td>\n",
              "      <td>Hadlee</td>\n",
              "      <td>Female</td>\n",
              "      <td>34</td>\n",
              "      <td>1965-09-21</td>\n",
              "      <td>Financial Analyst</td>\n",
              "      <td>Financial Services</td>\n",
              "      <td>Affluent Customer</td>\n",
              "      <td>N</td>\n",
              "      <td>No</td>\n",
              "      <td>...</td>\n",
              "      <td>NSW</td>\n",
              "      <td>Australia</td>\n",
              "      <td>9.0</td>\n",
              "      <td>0.81</td>\n",
              "      <td>0.8100</td>\n",
              "      <td>1.012500</td>\n",
              "      <td>1.012500</td>\n",
              "      <td>4</td>\n",
              "      <td>4.0</td>\n",
              "      <td>1.703125</td>\n",
              "    </tr>\n",
              "  </tbody>\n",
              "</table>\n",
              "<p>5 rows × 23 columns</p>\n",
              "</div>\n",
              "      <button class=\"colab-df-convert\" onclick=\"convertToInteractive('df-8201b7d3-4e6d-47ff-aeaf-144684742db8')\"\n",
              "              title=\"Convert this dataframe to an interactive table.\"\n",
              "              style=\"display:none;\">\n",
              "        \n",
              "  <svg xmlns=\"http://www.w3.org/2000/svg\" height=\"24px\"viewBox=\"0 0 24 24\"\n",
              "       width=\"24px\">\n",
              "    <path d=\"M0 0h24v24H0V0z\" fill=\"none\"/>\n",
              "    <path d=\"M18.56 5.44l.94 2.06.94-2.06 2.06-.94-2.06-.94-.94-2.06-.94 2.06-2.06.94zm-11 1L8.5 8.5l.94-2.06 2.06-.94-2.06-.94L8.5 2.5l-.94 2.06-2.06.94zm10 10l.94 2.06.94-2.06 2.06-.94-2.06-.94-.94-2.06-.94 2.06-2.06.94z\"/><path d=\"M17.41 7.96l-1.37-1.37c-.4-.4-.92-.59-1.43-.59-.52 0-1.04.2-1.43.59L10.3 9.45l-7.72 7.72c-.78.78-.78 2.05 0 2.83L4 21.41c.39.39.9.59 1.41.59.51 0 1.02-.2 1.41-.59l7.78-7.78 2.81-2.81c.8-.78.8-2.07 0-2.86zM5.41 20L4 18.59l7.72-7.72 1.47 1.35L5.41 20z\"/>\n",
              "  </svg>\n",
              "      </button>\n",
              "      \n",
              "  <style>\n",
              "    .colab-df-container {\n",
              "      display:flex;\n",
              "      flex-wrap:wrap;\n",
              "      gap: 12px;\n",
              "    }\n",
              "\n",
              "    .colab-df-convert {\n",
              "      background-color: #E8F0FE;\n",
              "      border: none;\n",
              "      border-radius: 50%;\n",
              "      cursor: pointer;\n",
              "      display: none;\n",
              "      fill: #1967D2;\n",
              "      height: 32px;\n",
              "      padding: 0 0 0 0;\n",
              "      width: 32px;\n",
              "    }\n",
              "\n",
              "    .colab-df-convert:hover {\n",
              "      background-color: #E2EBFA;\n",
              "      box-shadow: 0px 1px 2px rgba(60, 64, 67, 0.3), 0px 1px 3px 1px rgba(60, 64, 67, 0.15);\n",
              "      fill: #174EA6;\n",
              "    }\n",
              "\n",
              "    [theme=dark] .colab-df-convert {\n",
              "      background-color: #3B4455;\n",
              "      fill: #D2E3FC;\n",
              "    }\n",
              "\n",
              "    [theme=dark] .colab-df-convert:hover {\n",
              "      background-color: #434B5C;\n",
              "      box-shadow: 0px 1px 3px 1px rgba(0, 0, 0, 0.15);\n",
              "      filter: drop-shadow(0px 1px 2px rgba(0, 0, 0, 0.3));\n",
              "      fill: #FFFFFF;\n",
              "    }\n",
              "  </style>\n",
              "\n",
              "      <script>\n",
              "        const buttonEl =\n",
              "          document.querySelector('#df-8201b7d3-4e6d-47ff-aeaf-144684742db8 button.colab-df-convert');\n",
              "        buttonEl.style.display =\n",
              "          google.colab.kernel.accessAllowed ? 'block' : 'none';\n",
              "\n",
              "        async function convertToInteractive(key) {\n",
              "          const element = document.querySelector('#df-8201b7d3-4e6d-47ff-aeaf-144684742db8');\n",
              "          const dataTable =\n",
              "            await google.colab.kernel.invokeFunction('convertToInteractive',\n",
              "                                                     [key], {});\n",
              "          if (!dataTable) return;\n",
              "\n",
              "          const docLinkHtml = 'Like what you see? Visit the ' +\n",
              "            '<a target=\"_blank\" href=https://colab.research.google.com/notebooks/data_table.ipynb>data table notebook</a>'\n",
              "            + ' to learn more about interactive tables.';\n",
              "          element.innerHTML = '';\n",
              "          dataTable['output_type'] = 'display_data';\n",
              "          await google.colab.output.renderOutput(dataTable, element);\n",
              "          const docLink = document.createElement('div');\n",
              "          docLink.innerHTML = docLinkHtml;\n",
              "          element.appendChild(docLink);\n",
              "        }\n",
              "      </script>\n",
              "    </div>\n",
              "  </div>\n",
              "  "
            ]
          },
          "metadata": {},
          "execution_count": 20
        }
      ]
    },
    {
      "cell_type": "code",
      "source": [
        "NewCustomerList.info()"
      ],
      "metadata": {
        "colab": {
          "base_uri": "https://localhost:8080/"
        },
        "id": "8vYLxj_65KjP",
        "outputId": "e610d5ab-bd28-4ec2-ac20-91dfb4693f5a"
      },
      "execution_count": null,
      "outputs": [
        {
          "output_type": "stream",
          "name": "stdout",
          "text": [
            "<class 'pandas.core.frame.DataFrame'>\n",
            "RangeIndex: 1000 entries, 0 to 999\n",
            "Data columns (total 23 columns):\n",
            " #   Column                               Non-Null Count  Dtype         \n",
            "---  ------                               --------------  -----         \n",
            " 0   first_name                           1000 non-null   object        \n",
            " 1   last_name                            971 non-null    object        \n",
            " 2   gender                               1000 non-null   object        \n",
            " 3   past_3_years_bike_related_purchases  1000 non-null   int64         \n",
            " 4   DOB                                  983 non-null    datetime64[ns]\n",
            " 5   job_title                            894 non-null    object        \n",
            " 6   job_industry_category                835 non-null    object        \n",
            " 7   wealth_segment                       1000 non-null   object        \n",
            " 8   deceased_indicator                   1000 non-null   object        \n",
            " 9   owns_car                             1000 non-null   object        \n",
            " 10  tenure                               1000 non-null   float64       \n",
            " 11  address                              1000 non-null   object        \n",
            " 12  postcode                             1000 non-null   float64       \n",
            " 13  state                                1000 non-null   object        \n",
            " 14  country                              1000 non-null   object        \n",
            " 15  property_valuation                   1000 non-null   float64       \n",
            " 16  Unnamed: 16                          1000 non-null   float64       \n",
            " 17  Unnamed: 17                          1000 non-null   float64       \n",
            " 18  Unnamed: 18                          1000 non-null   float64       \n",
            " 19  Unnamed: 19                          1000 non-null   float64       \n",
            " 20  Unnamed: 20                          1000 non-null   int64         \n",
            " 21  Rank                                 1000 non-null   float64       \n",
            " 22  Value                                1000 non-null   float64       \n",
            "dtypes: datetime64[ns](1), float64(9), int64(2), object(11)\n",
            "memory usage: 179.8+ KB\n"
          ]
        }
      ]
    },
    {
      "cell_type": "code",
      "source": [
        "#Dropping the unnamed columns\n",
        "NewCustomerList.drop(['Unnamed: 16', 'Unnamed: 17', 'Unnamed: 18',\n",
        "       'Unnamed: 19', 'Unnamed: 20'], axis=1, inplace=True)"
      ],
      "metadata": {
        "id": "XI256u-85Qj4"
      },
      "execution_count": null,
      "outputs": []
    },
    {
      "cell_type": "code",
      "source": [
        "#Checking the shape of the dataset\n",
        "NewCustomerList.shape"
      ],
      "metadata": {
        "colab": {
          "base_uri": "https://localhost:8080/"
        },
        "id": "RsjvObxs5Ts2",
        "outputId": "76076e7e-2eb3-4139-ce30-a4a500a28ab5"
      },
      "execution_count": null,
      "outputs": [
        {
          "output_type": "execute_result",
          "data": {
            "text/plain": [
              "(1000, 18)"
            ]
          },
          "metadata": {},
          "execution_count": 23
        }
      ]
    },
    {
      "cell_type": "code",
      "source": [
        "#Checking for null values\n",
        "NewCustomerList.isnull().sum()"
      ],
      "metadata": {
        "colab": {
          "base_uri": "https://localhost:8080/"
        },
        "id": "zWJWEZ3Z5Wnj",
        "outputId": "708eb9c8-bd1d-4c3a-a491-43aa06c4a8a7"
      },
      "execution_count": null,
      "outputs": [
        {
          "output_type": "execute_result",
          "data": {
            "text/plain": [
              "first_name                               0\n",
              "last_name                               29\n",
              "gender                                   0\n",
              "past_3_years_bike_related_purchases      0\n",
              "DOB                                     17\n",
              "job_title                              106\n",
              "job_industry_category                  165\n",
              "wealth_segment                           0\n",
              "deceased_indicator                       0\n",
              "owns_car                                 0\n",
              "tenure                                   0\n",
              "address                                  0\n",
              "postcode                                 0\n",
              "state                                    0\n",
              "country                                  0\n",
              "property_valuation                       0\n",
              "Rank                                     0\n",
              "Value                                    0\n",
              "dtype: int64"
            ]
          },
          "metadata": {},
          "execution_count": 24
        }
      ]
    },
    {
      "cell_type": "markdown",
      "source": [
        "### **There are missing values in 4 columns. They can be dropped or treated according to the nature of analysis**"
      ],
      "metadata": {
        "id": "I9rRGxkQ5bKV"
      }
    },
    {
      "cell_type": "code",
      "source": [
        "#Checking for duplicate values\n",
        "NewCustomerList.duplicated().sum()"
      ],
      "metadata": {
        "colab": {
          "base_uri": "https://localhost:8080/"
        },
        "id": "41QcX32x5hoX",
        "outputId": "1dc0a631-2cf4-4143-837b-73ca040b9731"
      },
      "execution_count": null,
      "outputs": [
        {
          "output_type": "execute_result",
          "data": {
            "text/plain": [
              "0"
            ]
          },
          "metadata": {},
          "execution_count": 25
        }
      ]
    },
    {
      "cell_type": "markdown",
      "source": [
        "### **There are no duplicate values.**"
      ],
      "metadata": {
        "id": "VEytS8Vk5lam"
      }
    },
    {
      "cell_type": "code",
      "source": [
        "#Checking for uniquess of each column\n",
        "NewCustomerList.nunique()"
      ],
      "metadata": {
        "colab": {
          "base_uri": "https://localhost:8080/"
        },
        "id": "Usko2qDE5esw",
        "outputId": "5062f6f8-1097-4e41-bc3d-ff1f1bc4376b"
      },
      "execution_count": null,
      "outputs": [
        {
          "output_type": "execute_result",
          "data": {
            "text/plain": [
              "first_name                              940\n",
              "last_name                               961\n",
              "gender                                    3\n",
              "past_3_years_bike_related_purchases     100\n",
              "DOB                                     958\n",
              "job_title                               184\n",
              "job_industry_category                     9\n",
              "wealth_segment                            3\n",
              "deceased_indicator                        1\n",
              "owns_car                                  2\n",
              "tenure                                   23\n",
              "address                                1000\n",
              "postcode                                522\n",
              "state                                     3\n",
              "country                                   1\n",
              "property_valuation                       12\n",
              "Rank                                    324\n",
              "Value                                   324\n",
              "dtype: int64"
            ]
          },
          "metadata": {},
          "execution_count": 26
        }
      ]
    },
    {
      "cell_type": "markdown",
      "source": [
        "### **Exploring the columns**"
      ],
      "metadata": {
        "id": "v5DjFUth5vGz"
      }
    },
    {
      "cell_type": "code",
      "source": [
        "NewCustomerList.columns"
      ],
      "metadata": {
        "colab": {
          "base_uri": "https://localhost:8080/"
        },
        "id": "doR1PXb75zMW",
        "outputId": "30f2622b-9d8d-4a42-da94-66e98b635491"
      },
      "execution_count": null,
      "outputs": [
        {
          "output_type": "execute_result",
          "data": {
            "text/plain": [
              "Index(['first_name', 'last_name', 'gender',\n",
              "       'past_3_years_bike_related_purchases', 'DOB', 'job_title',\n",
              "       'job_industry_category', 'wealth_segment', 'deceased_indicator',\n",
              "       'owns_car', 'tenure', 'address', 'postcode', 'state', 'country',\n",
              "       'property_valuation', 'Rank', 'Value'],\n",
              "      dtype='object')"
            ]
          },
          "metadata": {},
          "execution_count": 27
        }
      ]
    },
    {
      "cell_type": "code",
      "source": [
        "NewCustomerList['gender'].value_counts()"
      ],
      "metadata": {
        "colab": {
          "base_uri": "https://localhost:8080/"
        },
        "id": "346CFT0l52TF",
        "outputId": "d25e4f71-a25f-4b87-c923-503a02f7218a"
      },
      "execution_count": null,
      "outputs": [
        {
          "output_type": "execute_result",
          "data": {
            "text/plain": [
              "Female    513\n",
              "Male      470\n",
              "U          17\n",
              "Name: gender, dtype: int64"
            ]
          },
          "metadata": {},
          "execution_count": 28
        }
      ]
    },
    {
      "cell_type": "code",
      "source": [
        "NewCustomerList[NewCustomerList.gender == \"U\"]"
      ],
      "metadata": {
        "colab": {
          "base_uri": "https://localhost:8080/",
          "height": 1000
        },
        "id": "J2u1mJ3A56uK",
        "outputId": "1b8ac9e8-53af-49e3-ee1d-f8ff67944ada"
      },
      "execution_count": null,
      "outputs": [
        {
          "output_type": "execute_result",
          "data": {
            "text/plain": [
              "    first_name    last_name gender  past_3_years_bike_related_purchases DOB  \\\n",
              "59       Normy     Goodinge      U                                    5 NaT   \n",
              "226      Hatti     Carletti      U                                   35 NaT   \n",
              "324   Rozamond       Turtle      U                                   69 NaT   \n",
              "358      Tamas      Swatman      U                                   65 NaT   \n",
              "360      Tracy   Andrejevic      U                                   71 NaT   \n",
              "374     Agneta      McAmish      U                                   66 NaT   \n",
              "434      Gregg      Aimeric      U                                   52 NaT   \n",
              "439      Johna       Bunker      U                                   93 NaT   \n",
              "574    Harlene         Nono      U                                   69 NaT   \n",
              "598   Gerianne       Kaysor      U                                   15 NaT   \n",
              "664     Chicky      Sinclar      U                                   43 NaT   \n",
              "751    Adriana  Saundercock      U                                   20 NaT   \n",
              "775     Dmitri        Viant      U                                   62 NaT   \n",
              "835      Porty       Hansed      U                                   88 NaT   \n",
              "883      Shara     Bramhill      U                                   24 NaT   \n",
              "904       Roth         Crum      U                                    0 NaT   \n",
              "984    Pauline     Dallosso      U                                   82 NaT   \n",
              "\n",
              "                        job_title job_industry_category     wealth_segment  \\\n",
              "59            Associate Professor                    IT      Mass Customer   \n",
              "226               Legal Assistant                    IT  Affluent Customer   \n",
              "324               Legal Assistant                    IT      Mass Customer   \n",
              "358       Assistant Media Planner         Entertainment  Affluent Customer   \n",
              "360                 Programmer II                    IT      Mass Customer   \n",
              "374  Structural Analysis Engineer                    IT      Mass Customer   \n",
              "434              Internal Auditor                    IT      Mass Customer   \n",
              "439                Tax Accountant                    IT      Mass Customer   \n",
              "574       Human Resources Manager                    IT      Mass Customer   \n",
              "598               Project Manager                    IT  Affluent Customer   \n",
              "664                      Operator                    IT     High Net Worth   \n",
              "751                         Nurse                    IT     High Net Worth   \n",
              "775                     Paralegal    Financial Services  Affluent Customer   \n",
              "835               General Manager                    IT      Mass Customer   \n",
              "883                           NaN                    IT  Affluent Customer   \n",
              "904               Legal Assistant                    IT      Mass Customer   \n",
              "984    Desktop Support Technician                    IT  Affluent Customer   \n",
              "\n",
              "    deceased_indicator owns_car  tenure                  address  postcode  \\\n",
              "59                   N       No     4.0      7232 Fulton Parkway    3810.0   \n",
              "226                  N      Yes    11.0            6 Iowa Center    2519.0   \n",
              "324                  N      Yes     3.0  57025 New Castle Street    3850.0   \n",
              "358                  N       No     5.0       78 Clarendon Drive    4551.0   \n",
              "360                  N      Yes    11.0  5675 Burning Wood Trail    3030.0   \n",
              "374                  N       No    15.0           5773 Acker Way    4207.0   \n",
              "434                  N       No     7.0      72423 Surrey Street    3753.0   \n",
              "439                  N      Yes    14.0         3686 Waubesa Way    3065.0   \n",
              "574                  N       No    12.0  0307 Namekagon Crossing    2170.0   \n",
              "598                  N       No     5.0           882 Toban Lane    2121.0   \n",
              "664                  N      Yes     0.0        5 Red Cloud Place    3222.0   \n",
              "751                  N      Yes    14.0         82 Gina Junction    3806.0   \n",
              "775                  N       No     5.0     95960 Warner Parkway    3842.0   \n",
              "835                  N       No    13.0     768 Southridge Drive    2112.0   \n",
              "883                  N       No     2.0     01 Bunker Hill Drive    2230.0   \n",
              "904                  N       No     2.0         276 Anthes Court    2450.0   \n",
              "984                  N      Yes     0.0       9594 Badeau Street    2050.0   \n",
              "\n",
              "    state    country  property_valuation   Rank     Value  \n",
              "59    VIC  Australia                 5.0   57.0  1.375000  \n",
              "226   NSW  Australia                 9.0  226.0  1.112500  \n",
              "324   VIC  Australia                 3.0  324.0  1.010000  \n",
              "358   QLD  Australia                 8.0  358.0  0.980000  \n",
              "360   VIC  Australia                 7.0  361.0  0.977500  \n",
              "374   QLD  Australia                 6.0  375.0  0.960000  \n",
              "434   VIC  Australia                 5.0  433.0  0.906250  \n",
              "439   VIC  Australia                 6.0  436.0  0.903125  \n",
              "574   NSW  Australia                 7.0  575.0  0.796875  \n",
              "598   NSW  Australia                11.0  599.0  0.775000  \n",
              "664   VIC  Australia                 4.0  662.0  0.711875  \n",
              "751   VIC  Australia                 7.0  751.0  0.648125  \n",
              "775   VIC  Australia                 1.0  774.0  0.626875  \n",
              "835   NSW  Australia                11.0  832.0  0.575000  \n",
              "883   NSW  Australia                10.0  883.0  0.531250  \n",
              "904   NSW  Australia                 6.0  904.0  0.500000  \n",
              "984   NSW  Australia                10.0  985.0  0.408000  "
            ],
            "text/html": [
              "\n",
              "  <div id=\"df-1b1f61bc-a24c-4cee-9b3c-b2b6ce96dcaa\">\n",
              "    <div class=\"colab-df-container\">\n",
              "      <div>\n",
              "<style scoped>\n",
              "    .dataframe tbody tr th:only-of-type {\n",
              "        vertical-align: middle;\n",
              "    }\n",
              "\n",
              "    .dataframe tbody tr th {\n",
              "        vertical-align: top;\n",
              "    }\n",
              "\n",
              "    .dataframe thead th {\n",
              "        text-align: right;\n",
              "    }\n",
              "</style>\n",
              "<table border=\"1\" class=\"dataframe\">\n",
              "  <thead>\n",
              "    <tr style=\"text-align: right;\">\n",
              "      <th></th>\n",
              "      <th>first_name</th>\n",
              "      <th>last_name</th>\n",
              "      <th>gender</th>\n",
              "      <th>past_3_years_bike_related_purchases</th>\n",
              "      <th>DOB</th>\n",
              "      <th>job_title</th>\n",
              "      <th>job_industry_category</th>\n",
              "      <th>wealth_segment</th>\n",
              "      <th>deceased_indicator</th>\n",
              "      <th>owns_car</th>\n",
              "      <th>tenure</th>\n",
              "      <th>address</th>\n",
              "      <th>postcode</th>\n",
              "      <th>state</th>\n",
              "      <th>country</th>\n",
              "      <th>property_valuation</th>\n",
              "      <th>Rank</th>\n",
              "      <th>Value</th>\n",
              "    </tr>\n",
              "  </thead>\n",
              "  <tbody>\n",
              "    <tr>\n",
              "      <th>59</th>\n",
              "      <td>Normy</td>\n",
              "      <td>Goodinge</td>\n",
              "      <td>U</td>\n",
              "      <td>5</td>\n",
              "      <td>NaT</td>\n",
              "      <td>Associate Professor</td>\n",
              "      <td>IT</td>\n",
              "      <td>Mass Customer</td>\n",
              "      <td>N</td>\n",
              "      <td>No</td>\n",
              "      <td>4.0</td>\n",
              "      <td>7232 Fulton Parkway</td>\n",
              "      <td>3810.0</td>\n",
              "      <td>VIC</td>\n",
              "      <td>Australia</td>\n",
              "      <td>5.0</td>\n",
              "      <td>57.0</td>\n",
              "      <td>1.375000</td>\n",
              "    </tr>\n",
              "    <tr>\n",
              "      <th>226</th>\n",
              "      <td>Hatti</td>\n",
              "      <td>Carletti</td>\n",
              "      <td>U</td>\n",
              "      <td>35</td>\n",
              "      <td>NaT</td>\n",
              "      <td>Legal Assistant</td>\n",
              "      <td>IT</td>\n",
              "      <td>Affluent Customer</td>\n",
              "      <td>N</td>\n",
              "      <td>Yes</td>\n",
              "      <td>11.0</td>\n",
              "      <td>6 Iowa Center</td>\n",
              "      <td>2519.0</td>\n",
              "      <td>NSW</td>\n",
              "      <td>Australia</td>\n",
              "      <td>9.0</td>\n",
              "      <td>226.0</td>\n",
              "      <td>1.112500</td>\n",
              "    </tr>\n",
              "    <tr>\n",
              "      <th>324</th>\n",
              "      <td>Rozamond</td>\n",
              "      <td>Turtle</td>\n",
              "      <td>U</td>\n",
              "      <td>69</td>\n",
              "      <td>NaT</td>\n",
              "      <td>Legal Assistant</td>\n",
              "      <td>IT</td>\n",
              "      <td>Mass Customer</td>\n",
              "      <td>N</td>\n",
              "      <td>Yes</td>\n",
              "      <td>3.0</td>\n",
              "      <td>57025 New Castle Street</td>\n",
              "      <td>3850.0</td>\n",
              "      <td>VIC</td>\n",
              "      <td>Australia</td>\n",
              "      <td>3.0</td>\n",
              "      <td>324.0</td>\n",
              "      <td>1.010000</td>\n",
              "    </tr>\n",
              "    <tr>\n",
              "      <th>358</th>\n",
              "      <td>Tamas</td>\n",
              "      <td>Swatman</td>\n",
              "      <td>U</td>\n",
              "      <td>65</td>\n",
              "      <td>NaT</td>\n",
              "      <td>Assistant Media Planner</td>\n",
              "      <td>Entertainment</td>\n",
              "      <td>Affluent Customer</td>\n",
              "      <td>N</td>\n",
              "      <td>No</td>\n",
              "      <td>5.0</td>\n",
              "      <td>78 Clarendon Drive</td>\n",
              "      <td>4551.0</td>\n",
              "      <td>QLD</td>\n",
              "      <td>Australia</td>\n",
              "      <td>8.0</td>\n",
              "      <td>358.0</td>\n",
              "      <td>0.980000</td>\n",
              "    </tr>\n",
              "    <tr>\n",
              "      <th>360</th>\n",
              "      <td>Tracy</td>\n",
              "      <td>Andrejevic</td>\n",
              "      <td>U</td>\n",
              "      <td>71</td>\n",
              "      <td>NaT</td>\n",
              "      <td>Programmer II</td>\n",
              "      <td>IT</td>\n",
              "      <td>Mass Customer</td>\n",
              "      <td>N</td>\n",
              "      <td>Yes</td>\n",
              "      <td>11.0</td>\n",
              "      <td>5675 Burning Wood Trail</td>\n",
              "      <td>3030.0</td>\n",
              "      <td>VIC</td>\n",
              "      <td>Australia</td>\n",
              "      <td>7.0</td>\n",
              "      <td>361.0</td>\n",
              "      <td>0.977500</td>\n",
              "    </tr>\n",
              "    <tr>\n",
              "      <th>374</th>\n",
              "      <td>Agneta</td>\n",
              "      <td>McAmish</td>\n",
              "      <td>U</td>\n",
              "      <td>66</td>\n",
              "      <td>NaT</td>\n",
              "      <td>Structural Analysis Engineer</td>\n",
              "      <td>IT</td>\n",
              "      <td>Mass Customer</td>\n",
              "      <td>N</td>\n",
              "      <td>No</td>\n",
              "      <td>15.0</td>\n",
              "      <td>5773 Acker Way</td>\n",
              "      <td>4207.0</td>\n",
              "      <td>QLD</td>\n",
              "      <td>Australia</td>\n",
              "      <td>6.0</td>\n",
              "      <td>375.0</td>\n",
              "      <td>0.960000</td>\n",
              "    </tr>\n",
              "    <tr>\n",
              "      <th>434</th>\n",
              "      <td>Gregg</td>\n",
              "      <td>Aimeric</td>\n",
              "      <td>U</td>\n",
              "      <td>52</td>\n",
              "      <td>NaT</td>\n",
              "      <td>Internal Auditor</td>\n",
              "      <td>IT</td>\n",
              "      <td>Mass Customer</td>\n",
              "      <td>N</td>\n",
              "      <td>No</td>\n",
              "      <td>7.0</td>\n",
              "      <td>72423 Surrey Street</td>\n",
              "      <td>3753.0</td>\n",
              "      <td>VIC</td>\n",
              "      <td>Australia</td>\n",
              "      <td>5.0</td>\n",
              "      <td>433.0</td>\n",
              "      <td>0.906250</td>\n",
              "    </tr>\n",
              "    <tr>\n",
              "      <th>439</th>\n",
              "      <td>Johna</td>\n",
              "      <td>Bunker</td>\n",
              "      <td>U</td>\n",
              "      <td>93</td>\n",
              "      <td>NaT</td>\n",
              "      <td>Tax Accountant</td>\n",
              "      <td>IT</td>\n",
              "      <td>Mass Customer</td>\n",
              "      <td>N</td>\n",
              "      <td>Yes</td>\n",
              "      <td>14.0</td>\n",
              "      <td>3686 Waubesa Way</td>\n",
              "      <td>3065.0</td>\n",
              "      <td>VIC</td>\n",
              "      <td>Australia</td>\n",
              "      <td>6.0</td>\n",
              "      <td>436.0</td>\n",
              "      <td>0.903125</td>\n",
              "    </tr>\n",
              "    <tr>\n",
              "      <th>574</th>\n",
              "      <td>Harlene</td>\n",
              "      <td>Nono</td>\n",
              "      <td>U</td>\n",
              "      <td>69</td>\n",
              "      <td>NaT</td>\n",
              "      <td>Human Resources Manager</td>\n",
              "      <td>IT</td>\n",
              "      <td>Mass Customer</td>\n",
              "      <td>N</td>\n",
              "      <td>No</td>\n",
              "      <td>12.0</td>\n",
              "      <td>0307 Namekagon Crossing</td>\n",
              "      <td>2170.0</td>\n",
              "      <td>NSW</td>\n",
              "      <td>Australia</td>\n",
              "      <td>7.0</td>\n",
              "      <td>575.0</td>\n",
              "      <td>0.796875</td>\n",
              "    </tr>\n",
              "    <tr>\n",
              "      <th>598</th>\n",
              "      <td>Gerianne</td>\n",
              "      <td>Kaysor</td>\n",
              "      <td>U</td>\n",
              "      <td>15</td>\n",
              "      <td>NaT</td>\n",
              "      <td>Project Manager</td>\n",
              "      <td>IT</td>\n",
              "      <td>Affluent Customer</td>\n",
              "      <td>N</td>\n",
              "      <td>No</td>\n",
              "      <td>5.0</td>\n",
              "      <td>882 Toban Lane</td>\n",
              "      <td>2121.0</td>\n",
              "      <td>NSW</td>\n",
              "      <td>Australia</td>\n",
              "      <td>11.0</td>\n",
              "      <td>599.0</td>\n",
              "      <td>0.775000</td>\n",
              "    </tr>\n",
              "    <tr>\n",
              "      <th>664</th>\n",
              "      <td>Chicky</td>\n",
              "      <td>Sinclar</td>\n",
              "      <td>U</td>\n",
              "      <td>43</td>\n",
              "      <td>NaT</td>\n",
              "      <td>Operator</td>\n",
              "      <td>IT</td>\n",
              "      <td>High Net Worth</td>\n",
              "      <td>N</td>\n",
              "      <td>Yes</td>\n",
              "      <td>0.0</td>\n",
              "      <td>5 Red Cloud Place</td>\n",
              "      <td>3222.0</td>\n",
              "      <td>VIC</td>\n",
              "      <td>Australia</td>\n",
              "      <td>4.0</td>\n",
              "      <td>662.0</td>\n",
              "      <td>0.711875</td>\n",
              "    </tr>\n",
              "    <tr>\n",
              "      <th>751</th>\n",
              "      <td>Adriana</td>\n",
              "      <td>Saundercock</td>\n",
              "      <td>U</td>\n",
              "      <td>20</td>\n",
              "      <td>NaT</td>\n",
              "      <td>Nurse</td>\n",
              "      <td>IT</td>\n",
              "      <td>High Net Worth</td>\n",
              "      <td>N</td>\n",
              "      <td>Yes</td>\n",
              "      <td>14.0</td>\n",
              "      <td>82 Gina Junction</td>\n",
              "      <td>3806.0</td>\n",
              "      <td>VIC</td>\n",
              "      <td>Australia</td>\n",
              "      <td>7.0</td>\n",
              "      <td>751.0</td>\n",
              "      <td>0.648125</td>\n",
              "    </tr>\n",
              "    <tr>\n",
              "      <th>775</th>\n",
              "      <td>Dmitri</td>\n",
              "      <td>Viant</td>\n",
              "      <td>U</td>\n",
              "      <td>62</td>\n",
              "      <td>NaT</td>\n",
              "      <td>Paralegal</td>\n",
              "      <td>Financial Services</td>\n",
              "      <td>Affluent Customer</td>\n",
              "      <td>N</td>\n",
              "      <td>No</td>\n",
              "      <td>5.0</td>\n",
              "      <td>95960 Warner Parkway</td>\n",
              "      <td>3842.0</td>\n",
              "      <td>VIC</td>\n",
              "      <td>Australia</td>\n",
              "      <td>1.0</td>\n",
              "      <td>774.0</td>\n",
              "      <td>0.626875</td>\n",
              "    </tr>\n",
              "    <tr>\n",
              "      <th>835</th>\n",
              "      <td>Porty</td>\n",
              "      <td>Hansed</td>\n",
              "      <td>U</td>\n",
              "      <td>88</td>\n",
              "      <td>NaT</td>\n",
              "      <td>General Manager</td>\n",
              "      <td>IT</td>\n",
              "      <td>Mass Customer</td>\n",
              "      <td>N</td>\n",
              "      <td>No</td>\n",
              "      <td>13.0</td>\n",
              "      <td>768 Southridge Drive</td>\n",
              "      <td>2112.0</td>\n",
              "      <td>NSW</td>\n",
              "      <td>Australia</td>\n",
              "      <td>11.0</td>\n",
              "      <td>832.0</td>\n",
              "      <td>0.575000</td>\n",
              "    </tr>\n",
              "    <tr>\n",
              "      <th>883</th>\n",
              "      <td>Shara</td>\n",
              "      <td>Bramhill</td>\n",
              "      <td>U</td>\n",
              "      <td>24</td>\n",
              "      <td>NaT</td>\n",
              "      <td>NaN</td>\n",
              "      <td>IT</td>\n",
              "      <td>Affluent Customer</td>\n",
              "      <td>N</td>\n",
              "      <td>No</td>\n",
              "      <td>2.0</td>\n",
              "      <td>01 Bunker Hill Drive</td>\n",
              "      <td>2230.0</td>\n",
              "      <td>NSW</td>\n",
              "      <td>Australia</td>\n",
              "      <td>10.0</td>\n",
              "      <td>883.0</td>\n",
              "      <td>0.531250</td>\n",
              "    </tr>\n",
              "    <tr>\n",
              "      <th>904</th>\n",
              "      <td>Roth</td>\n",
              "      <td>Crum</td>\n",
              "      <td>U</td>\n",
              "      <td>0</td>\n",
              "      <td>NaT</td>\n",
              "      <td>Legal Assistant</td>\n",
              "      <td>IT</td>\n",
              "      <td>Mass Customer</td>\n",
              "      <td>N</td>\n",
              "      <td>No</td>\n",
              "      <td>2.0</td>\n",
              "      <td>276 Anthes Court</td>\n",
              "      <td>2450.0</td>\n",
              "      <td>NSW</td>\n",
              "      <td>Australia</td>\n",
              "      <td>6.0</td>\n",
              "      <td>904.0</td>\n",
              "      <td>0.500000</td>\n",
              "    </tr>\n",
              "    <tr>\n",
              "      <th>984</th>\n",
              "      <td>Pauline</td>\n",
              "      <td>Dallosso</td>\n",
              "      <td>U</td>\n",
              "      <td>82</td>\n",
              "      <td>NaT</td>\n",
              "      <td>Desktop Support Technician</td>\n",
              "      <td>IT</td>\n",
              "      <td>Affluent Customer</td>\n",
              "      <td>N</td>\n",
              "      <td>Yes</td>\n",
              "      <td>0.0</td>\n",
              "      <td>9594 Badeau Street</td>\n",
              "      <td>2050.0</td>\n",
              "      <td>NSW</td>\n",
              "      <td>Australia</td>\n",
              "      <td>10.0</td>\n",
              "      <td>985.0</td>\n",
              "      <td>0.408000</td>\n",
              "    </tr>\n",
              "  </tbody>\n",
              "</table>\n",
              "</div>\n",
              "      <button class=\"colab-df-convert\" onclick=\"convertToInteractive('df-1b1f61bc-a24c-4cee-9b3c-b2b6ce96dcaa')\"\n",
              "              title=\"Convert this dataframe to an interactive table.\"\n",
              "              style=\"display:none;\">\n",
              "        \n",
              "  <svg xmlns=\"http://www.w3.org/2000/svg\" height=\"24px\"viewBox=\"0 0 24 24\"\n",
              "       width=\"24px\">\n",
              "    <path d=\"M0 0h24v24H0V0z\" fill=\"none\"/>\n",
              "    <path d=\"M18.56 5.44l.94 2.06.94-2.06 2.06-.94-2.06-.94-.94-2.06-.94 2.06-2.06.94zm-11 1L8.5 8.5l.94-2.06 2.06-.94-2.06-.94L8.5 2.5l-.94 2.06-2.06.94zm10 10l.94 2.06.94-2.06 2.06-.94-2.06-.94-.94-2.06-.94 2.06-2.06.94z\"/><path d=\"M17.41 7.96l-1.37-1.37c-.4-.4-.92-.59-1.43-.59-.52 0-1.04.2-1.43.59L10.3 9.45l-7.72 7.72c-.78.78-.78 2.05 0 2.83L4 21.41c.39.39.9.59 1.41.59.51 0 1.02-.2 1.41-.59l7.78-7.78 2.81-2.81c.8-.78.8-2.07 0-2.86zM5.41 20L4 18.59l7.72-7.72 1.47 1.35L5.41 20z\"/>\n",
              "  </svg>\n",
              "      </button>\n",
              "      \n",
              "  <style>\n",
              "    .colab-df-container {\n",
              "      display:flex;\n",
              "      flex-wrap:wrap;\n",
              "      gap: 12px;\n",
              "    }\n",
              "\n",
              "    .colab-df-convert {\n",
              "      background-color: #E8F0FE;\n",
              "      border: none;\n",
              "      border-radius: 50%;\n",
              "      cursor: pointer;\n",
              "      display: none;\n",
              "      fill: #1967D2;\n",
              "      height: 32px;\n",
              "      padding: 0 0 0 0;\n",
              "      width: 32px;\n",
              "    }\n",
              "\n",
              "    .colab-df-convert:hover {\n",
              "      background-color: #E2EBFA;\n",
              "      box-shadow: 0px 1px 2px rgba(60, 64, 67, 0.3), 0px 1px 3px 1px rgba(60, 64, 67, 0.15);\n",
              "      fill: #174EA6;\n",
              "    }\n",
              "\n",
              "    [theme=dark] .colab-df-convert {\n",
              "      background-color: #3B4455;\n",
              "      fill: #D2E3FC;\n",
              "    }\n",
              "\n",
              "    [theme=dark] .colab-df-convert:hover {\n",
              "      background-color: #434B5C;\n",
              "      box-shadow: 0px 1px 3px 1px rgba(0, 0, 0, 0.15);\n",
              "      filter: drop-shadow(0px 1px 2px rgba(0, 0, 0, 0.3));\n",
              "      fill: #FFFFFF;\n",
              "    }\n",
              "  </style>\n",
              "\n",
              "      <script>\n",
              "        const buttonEl =\n",
              "          document.querySelector('#df-1b1f61bc-a24c-4cee-9b3c-b2b6ce96dcaa button.colab-df-convert');\n",
              "        buttonEl.style.display =\n",
              "          google.colab.kernel.accessAllowed ? 'block' : 'none';\n",
              "\n",
              "        async function convertToInteractive(key) {\n",
              "          const element = document.querySelector('#df-1b1f61bc-a24c-4cee-9b3c-b2b6ce96dcaa');\n",
              "          const dataTable =\n",
              "            await google.colab.kernel.invokeFunction('convertToInteractive',\n",
              "                                                     [key], {});\n",
              "          if (!dataTable) return;\n",
              "\n",
              "          const docLinkHtml = 'Like what you see? Visit the ' +\n",
              "            '<a target=\"_blank\" href=https://colab.research.google.com/notebooks/data_table.ipynb>data table notebook</a>'\n",
              "            + ' to learn more about interactive tables.';\n",
              "          element.innerHTML = '';\n",
              "          dataTable['output_type'] = 'display_data';\n",
              "          await google.colab.output.renderOutput(dataTable, element);\n",
              "          const docLink = document.createElement('div');\n",
              "          docLink.innerHTML = docLinkHtml;\n",
              "          element.appendChild(docLink);\n",
              "        }\n",
              "      </script>\n",
              "    </div>\n",
              "  </div>\n",
              "  "
            ]
          },
          "metadata": {},
          "execution_count": 29
        }
      ]
    },
    {
      "cell_type": "markdown",
      "source": [
        "### **There are 17 columns with unknown/unspecified gender.**"
      ],
      "metadata": {
        "id": "g_1SMXTV6Bg0"
      }
    },
    {
      "cell_type": "code",
      "source": [
        "NewCustomerList['DOB'].value_counts()"
      ],
      "metadata": {
        "colab": {
          "base_uri": "https://localhost:8080/"
        },
        "id": "r5i0-RtX6EJh",
        "outputId": "9cc841a2-85b8-4ed5-af6b-3d318b737dbf"
      },
      "execution_count": null,
      "outputs": [
        {
          "output_type": "execute_result",
          "data": {
            "text/plain": [
              "1998-02-05    2\n",
              "1978-01-15    2\n",
              "1977-11-08    2\n",
              "1951-11-28    2\n",
              "1979-07-28    2\n",
              "             ..\n",
              "1945-08-08    1\n",
              "1943-08-27    1\n",
              "1999-10-24    1\n",
              "1976-01-24    1\n",
              "1955-10-02    1\n",
              "Name: DOB, Length: 958, dtype: int64"
            ]
          },
          "metadata": {},
          "execution_count": 30
        }
      ]
    },
    {
      "cell_type": "code",
      "source": [
        "NewCustomerList['job_industry_category'].value_counts()"
      ],
      "metadata": {
        "colab": {
          "base_uri": "https://localhost:8080/"
        },
        "id": "lmBO2BjY6Hah",
        "outputId": "b79887f6-584b-420b-b125-7af2f36bb9d7"
      },
      "execution_count": null,
      "outputs": [
        {
          "output_type": "execute_result",
          "data": {
            "text/plain": [
              "Financial Services    203\n",
              "Manufacturing         199\n",
              "Health                152\n",
              "Retail                 78\n",
              "Property               64\n",
              "IT                     51\n",
              "Entertainment          37\n",
              "Argiculture            26\n",
              "Telecommunications     25\n",
              "Name: job_industry_category, dtype: int64"
            ]
          },
          "metadata": {},
          "execution_count": 31
        }
      ]
    },
    {
      "cell_type": "code",
      "source": [
        "NewCustomerList['wealth_segment'].value_counts()"
      ],
      "metadata": {
        "colab": {
          "base_uri": "https://localhost:8080/"
        },
        "id": "YMkAx94a6NEY",
        "outputId": "526a1e1c-1ff2-448e-ce38-1008d3ea6402"
      },
      "execution_count": null,
      "outputs": [
        {
          "output_type": "execute_result",
          "data": {
            "text/plain": [
              "Mass Customer        508\n",
              "High Net Worth       251\n",
              "Affluent Customer    241\n",
              "Name: wealth_segment, dtype: int64"
            ]
          },
          "metadata": {},
          "execution_count": 32
        }
      ]
    },
    {
      "cell_type": "code",
      "source": [
        "NewCustomerList['state'].value_counts()"
      ],
      "metadata": {
        "colab": {
          "base_uri": "https://localhost:8080/"
        },
        "id": "sm0-gzhc6Pwg",
        "outputId": "c7d1f355-aaea-4f37-88fb-2d625e38d8a7"
      },
      "execution_count": null,
      "outputs": [
        {
          "output_type": "execute_result",
          "data": {
            "text/plain": [
              "NSW    506\n",
              "VIC    266\n",
              "QLD    228\n",
              "Name: state, dtype: int64"
            ]
          },
          "metadata": {},
          "execution_count": 33
        }
      ]
    },
    {
      "cell_type": "code",
      "source": [
        "NewCustomerList['owns_car'].value_counts()"
      ],
      "metadata": {
        "colab": {
          "base_uri": "https://localhost:8080/"
        },
        "id": "Jzr2B6-66TIz",
        "outputId": "cb4c9984-42e5-4708-d179-3fa4a2fae1a5"
      },
      "execution_count": null,
      "outputs": [
        {
          "output_type": "execute_result",
          "data": {
            "text/plain": [
              "No     507\n",
              "Yes    493\n",
              "Name: owns_car, dtype: int64"
            ]
          },
          "metadata": {},
          "execution_count": 34
        }
      ]
    },
    {
      "cell_type": "code",
      "source": [
        "NewCustomerList['deceased_indicator'].value_counts()"
      ],
      "metadata": {
        "colab": {
          "base_uri": "https://localhost:8080/"
        },
        "id": "USNCwZq76VFz",
        "outputId": "0de2a979-532d-4519-c0f4-1a2b5e39baee"
      },
      "execution_count": null,
      "outputs": [
        {
          "output_type": "execute_result",
          "data": {
            "text/plain": [
              "N    1000\n",
              "Name: deceased_indicator, dtype: int64"
            ]
          },
          "metadata": {},
          "execution_count": 35
        }
      ]
    },
    {
      "cell_type": "markdown",
      "source": [
        "# **Exploring Customer Demographic Data Set**"
      ],
      "metadata": {
        "id": "-4Qx0Hrk6a3s"
      }
    },
    {
      "cell_type": "code",
      "source": [
        "CustomerDemographic.head()"
      ],
      "metadata": {
        "colab": {
          "base_uri": "https://localhost:8080/",
          "height": 374
        },
        "id": "myQoTbOI6aZE",
        "outputId": "886c58b6-ba57-4be9-f253-7bce71d35e53"
      },
      "execution_count": null,
      "outputs": [
        {
          "output_type": "execute_result",
          "data": {
            "text/plain": [
              "   customer_id      first_name  last_name  gender  \\\n",
              "0          1.0         Laraine  Medendorp       F   \n",
              "1          2.0             Eli    Bockman    Male   \n",
              "2          3.0           Arlin     Dearle    Male   \n",
              "3          4.0          Talbot        NaN    Male   \n",
              "4          5.0  Sheila-kathryn     Calton  Female   \n",
              "\n",
              "   past_3_years_bike_related_purchases        DOB               job_title  \\\n",
              "0                                 93.0 1953-10-12     Executive Secretary   \n",
              "1                                 81.0 1980-12-16  Administrative Officer   \n",
              "2                                 61.0 1954-01-20      Recruiting Manager   \n",
              "3                                 33.0 1961-10-03                     NaN   \n",
              "4                                 56.0 1977-05-13           Senior Editor   \n",
              "\n",
              "  job_industry_category     wealth_segment deceased_indicator  \\\n",
              "0                Health      Mass Customer                  N   \n",
              "1    Financial Services      Mass Customer                  N   \n",
              "2              Property      Mass Customer                  N   \n",
              "3                    IT      Mass Customer                  N   \n",
              "4                   NaN  Affluent Customer                  N   \n",
              "\n",
              "                                             default owns_car  tenure  \n",
              "0                                                 \"'      Yes    11.0  \n",
              "1                       <script>alert('hi')</script>      Yes    16.0  \n",
              "2                                2018-02-01 00:00:00      Yes    15.0  \n",
              "3  () { _; } >_[$($())] { touch /tmp/blns.shellsh...       No     7.0  \n",
              "4                                                NIL      Yes     8.0  "
            ],
            "text/html": [
              "\n",
              "  <div id=\"df-16feb4bb-da95-4f3a-a709-dd30e372505c\">\n",
              "    <div class=\"colab-df-container\">\n",
              "      <div>\n",
              "<style scoped>\n",
              "    .dataframe tbody tr th:only-of-type {\n",
              "        vertical-align: middle;\n",
              "    }\n",
              "\n",
              "    .dataframe tbody tr th {\n",
              "        vertical-align: top;\n",
              "    }\n",
              "\n",
              "    .dataframe thead th {\n",
              "        text-align: right;\n",
              "    }\n",
              "</style>\n",
              "<table border=\"1\" class=\"dataframe\">\n",
              "  <thead>\n",
              "    <tr style=\"text-align: right;\">\n",
              "      <th></th>\n",
              "      <th>customer_id</th>\n",
              "      <th>first_name</th>\n",
              "      <th>last_name</th>\n",
              "      <th>gender</th>\n",
              "      <th>past_3_years_bike_related_purchases</th>\n",
              "      <th>DOB</th>\n",
              "      <th>job_title</th>\n",
              "      <th>job_industry_category</th>\n",
              "      <th>wealth_segment</th>\n",
              "      <th>deceased_indicator</th>\n",
              "      <th>default</th>\n",
              "      <th>owns_car</th>\n",
              "      <th>tenure</th>\n",
              "    </tr>\n",
              "  </thead>\n",
              "  <tbody>\n",
              "    <tr>\n",
              "      <th>0</th>\n",
              "      <td>1.0</td>\n",
              "      <td>Laraine</td>\n",
              "      <td>Medendorp</td>\n",
              "      <td>F</td>\n",
              "      <td>93.0</td>\n",
              "      <td>1953-10-12</td>\n",
              "      <td>Executive Secretary</td>\n",
              "      <td>Health</td>\n",
              "      <td>Mass Customer</td>\n",
              "      <td>N</td>\n",
              "      <td>\"'</td>\n",
              "      <td>Yes</td>\n",
              "      <td>11.0</td>\n",
              "    </tr>\n",
              "    <tr>\n",
              "      <th>1</th>\n",
              "      <td>2.0</td>\n",
              "      <td>Eli</td>\n",
              "      <td>Bockman</td>\n",
              "      <td>Male</td>\n",
              "      <td>81.0</td>\n",
              "      <td>1980-12-16</td>\n",
              "      <td>Administrative Officer</td>\n",
              "      <td>Financial Services</td>\n",
              "      <td>Mass Customer</td>\n",
              "      <td>N</td>\n",
              "      <td>&lt;script&gt;alert('hi')&lt;/script&gt;</td>\n",
              "      <td>Yes</td>\n",
              "      <td>16.0</td>\n",
              "    </tr>\n",
              "    <tr>\n",
              "      <th>2</th>\n",
              "      <td>3.0</td>\n",
              "      <td>Arlin</td>\n",
              "      <td>Dearle</td>\n",
              "      <td>Male</td>\n",
              "      <td>61.0</td>\n",
              "      <td>1954-01-20</td>\n",
              "      <td>Recruiting Manager</td>\n",
              "      <td>Property</td>\n",
              "      <td>Mass Customer</td>\n",
              "      <td>N</td>\n",
              "      <td>2018-02-01 00:00:00</td>\n",
              "      <td>Yes</td>\n",
              "      <td>15.0</td>\n",
              "    </tr>\n",
              "    <tr>\n",
              "      <th>3</th>\n",
              "      <td>4.0</td>\n",
              "      <td>Talbot</td>\n",
              "      <td>NaN</td>\n",
              "      <td>Male</td>\n",
              "      <td>33.0</td>\n",
              "      <td>1961-10-03</td>\n",
              "      <td>NaN</td>\n",
              "      <td>IT</td>\n",
              "      <td>Mass Customer</td>\n",
              "      <td>N</td>\n",
              "      <td>() { _; } &gt;_[$($())] { touch /tmp/blns.shellsh...</td>\n",
              "      <td>No</td>\n",
              "      <td>7.0</td>\n",
              "    </tr>\n",
              "    <tr>\n",
              "      <th>4</th>\n",
              "      <td>5.0</td>\n",
              "      <td>Sheila-kathryn</td>\n",
              "      <td>Calton</td>\n",
              "      <td>Female</td>\n",
              "      <td>56.0</td>\n",
              "      <td>1977-05-13</td>\n",
              "      <td>Senior Editor</td>\n",
              "      <td>NaN</td>\n",
              "      <td>Affluent Customer</td>\n",
              "      <td>N</td>\n",
              "      <td>NIL</td>\n",
              "      <td>Yes</td>\n",
              "      <td>8.0</td>\n",
              "    </tr>\n",
              "  </tbody>\n",
              "</table>\n",
              "</div>\n",
              "      <button class=\"colab-df-convert\" onclick=\"convertToInteractive('df-16feb4bb-da95-4f3a-a709-dd30e372505c')\"\n",
              "              title=\"Convert this dataframe to an interactive table.\"\n",
              "              style=\"display:none;\">\n",
              "        \n",
              "  <svg xmlns=\"http://www.w3.org/2000/svg\" height=\"24px\"viewBox=\"0 0 24 24\"\n",
              "       width=\"24px\">\n",
              "    <path d=\"M0 0h24v24H0V0z\" fill=\"none\"/>\n",
              "    <path d=\"M18.56 5.44l.94 2.06.94-2.06 2.06-.94-2.06-.94-.94-2.06-.94 2.06-2.06.94zm-11 1L8.5 8.5l.94-2.06 2.06-.94-2.06-.94L8.5 2.5l-.94 2.06-2.06.94zm10 10l.94 2.06.94-2.06 2.06-.94-2.06-.94-.94-2.06-.94 2.06-2.06.94z\"/><path d=\"M17.41 7.96l-1.37-1.37c-.4-.4-.92-.59-1.43-.59-.52 0-1.04.2-1.43.59L10.3 9.45l-7.72 7.72c-.78.78-.78 2.05 0 2.83L4 21.41c.39.39.9.59 1.41.59.51 0 1.02-.2 1.41-.59l7.78-7.78 2.81-2.81c.8-.78.8-2.07 0-2.86zM5.41 20L4 18.59l7.72-7.72 1.47 1.35L5.41 20z\"/>\n",
              "  </svg>\n",
              "      </button>\n",
              "      \n",
              "  <style>\n",
              "    .colab-df-container {\n",
              "      display:flex;\n",
              "      flex-wrap:wrap;\n",
              "      gap: 12px;\n",
              "    }\n",
              "\n",
              "    .colab-df-convert {\n",
              "      background-color: #E8F0FE;\n",
              "      border: none;\n",
              "      border-radius: 50%;\n",
              "      cursor: pointer;\n",
              "      display: none;\n",
              "      fill: #1967D2;\n",
              "      height: 32px;\n",
              "      padding: 0 0 0 0;\n",
              "      width: 32px;\n",
              "    }\n",
              "\n",
              "    .colab-df-convert:hover {\n",
              "      background-color: #E2EBFA;\n",
              "      box-shadow: 0px 1px 2px rgba(60, 64, 67, 0.3), 0px 1px 3px 1px rgba(60, 64, 67, 0.15);\n",
              "      fill: #174EA6;\n",
              "    }\n",
              "\n",
              "    [theme=dark] .colab-df-convert {\n",
              "      background-color: #3B4455;\n",
              "      fill: #D2E3FC;\n",
              "    }\n",
              "\n",
              "    [theme=dark] .colab-df-convert:hover {\n",
              "      background-color: #434B5C;\n",
              "      box-shadow: 0px 1px 3px 1px rgba(0, 0, 0, 0.15);\n",
              "      filter: drop-shadow(0px 1px 2px rgba(0, 0, 0, 0.3));\n",
              "      fill: #FFFFFF;\n",
              "    }\n",
              "  </style>\n",
              "\n",
              "      <script>\n",
              "        const buttonEl =\n",
              "          document.querySelector('#df-16feb4bb-da95-4f3a-a709-dd30e372505c button.colab-df-convert');\n",
              "        buttonEl.style.display =\n",
              "          google.colab.kernel.accessAllowed ? 'block' : 'none';\n",
              "\n",
              "        async function convertToInteractive(key) {\n",
              "          const element = document.querySelector('#df-16feb4bb-da95-4f3a-a709-dd30e372505c');\n",
              "          const dataTable =\n",
              "            await google.colab.kernel.invokeFunction('convertToInteractive',\n",
              "                                                     [key], {});\n",
              "          if (!dataTable) return;\n",
              "\n",
              "          const docLinkHtml = 'Like what you see? Visit the ' +\n",
              "            '<a target=\"_blank\" href=https://colab.research.google.com/notebooks/data_table.ipynb>data table notebook</a>'\n",
              "            + ' to learn more about interactive tables.';\n",
              "          element.innerHTML = '';\n",
              "          dataTable['output_type'] = 'display_data';\n",
              "          await google.colab.output.renderOutput(dataTable, element);\n",
              "          const docLink = document.createElement('div');\n",
              "          docLink.innerHTML = docLinkHtml;\n",
              "          element.appendChild(docLink);\n",
              "        }\n",
              "      </script>\n",
              "    </div>\n",
              "  </div>\n",
              "  "
            ]
          },
          "metadata": {},
          "execution_count": 36
        }
      ]
    },
    {
      "cell_type": "code",
      "source": [
        "CustomerDemographic.info()"
      ],
      "metadata": {
        "colab": {
          "base_uri": "https://localhost:8080/"
        },
        "id": "F_MV7pB86gei",
        "outputId": "b65c53c0-1a40-4f95-bc23-56bcdc79ddd4"
      },
      "execution_count": null,
      "outputs": [
        {
          "output_type": "stream",
          "name": "stdout",
          "text": [
            "<class 'pandas.core.frame.DataFrame'>\n",
            "RangeIndex: 4000 entries, 0 to 3999\n",
            "Data columns (total 13 columns):\n",
            " #   Column                               Non-Null Count  Dtype         \n",
            "---  ------                               --------------  -----         \n",
            " 0   customer_id                          4000 non-null   float64       \n",
            " 1   first_name                           4000 non-null   object        \n",
            " 2   last_name                            3875 non-null   object        \n",
            " 3   gender                               4000 non-null   object        \n",
            " 4   past_3_years_bike_related_purchases  4000 non-null   float64       \n",
            " 5   DOB                                  3913 non-null   datetime64[ns]\n",
            " 6   job_title                            3494 non-null   object        \n",
            " 7   job_industry_category                3344 non-null   object        \n",
            " 8   wealth_segment                       4000 non-null   object        \n",
            " 9   deceased_indicator                   4000 non-null   object        \n",
            " 10  default                              3698 non-null   object        \n",
            " 11  owns_car                             4000 non-null   object        \n",
            " 12  tenure                               3913 non-null   float64       \n",
            "dtypes: datetime64[ns](1), float64(3), object(9)\n",
            "memory usage: 406.4+ KB\n"
          ]
        }
      ]
    },
    {
      "cell_type": "code",
      "source": [
        "#Checking for null values\n",
        "CustomerDemographic.isnull().sum()"
      ],
      "metadata": {
        "colab": {
          "base_uri": "https://localhost:8080/"
        },
        "id": "shOSr9xM6joM",
        "outputId": "0eb5d477-7f0c-4e42-cd82-abdcae7b5287"
      },
      "execution_count": null,
      "outputs": [
        {
          "output_type": "execute_result",
          "data": {
            "text/plain": [
              "customer_id                              0\n",
              "first_name                               0\n",
              "last_name                              125\n",
              "gender                                   0\n",
              "past_3_years_bike_related_purchases      0\n",
              "DOB                                     87\n",
              "job_title                              506\n",
              "job_industry_category                  656\n",
              "wealth_segment                           0\n",
              "deceased_indicator                       0\n",
              "default                                302\n",
              "owns_car                                 0\n",
              "tenure                                  87\n",
              "dtype: int64"
            ]
          },
          "metadata": {},
          "execution_count": 38
        }
      ]
    },
    {
      "cell_type": "markdown",
      "source": [
        "### **There are missing values in 5 columns. They can be dropped or treated according to the nature of analysis**"
      ],
      "metadata": {
        "id": "vU36JBlJ6m6k"
      }
    },
    {
      "cell_type": "code",
      "source": [
        "#Checking for duplicate data\n",
        "CustomerDemographic.duplicated().sum()"
      ],
      "metadata": {
        "colab": {
          "base_uri": "https://localhost:8080/"
        },
        "id": "785TFKUA6q_w",
        "outputId": "db586ad4-5bcb-452f-aa26-952a3662ee14"
      },
      "execution_count": null,
      "outputs": [
        {
          "output_type": "execute_result",
          "data": {
            "text/plain": [
              "0"
            ]
          },
          "metadata": {},
          "execution_count": 39
        }
      ]
    },
    {
      "cell_type": "markdown",
      "source": [
        "### **There are no duplicate values.**"
      ],
      "metadata": {
        "id": "FvswAhK-6wTf"
      }
    },
    {
      "cell_type": "code",
      "source": [
        "#Checking for uniqueness of each column\n",
        "CustomerDemographic.nunique()"
      ],
      "metadata": {
        "colab": {
          "base_uri": "https://localhost:8080/"
        },
        "id": "ZCz5BlTE6vw9",
        "outputId": "02f56fe4-5827-4996-bc86-c576e8f65d41"
      },
      "execution_count": null,
      "outputs": [
        {
          "output_type": "execute_result",
          "data": {
            "text/plain": [
              "customer_id                            4000\n",
              "first_name                             3139\n",
              "last_name                              3725\n",
              "gender                                    6\n",
              "past_3_years_bike_related_purchases     100\n",
              "DOB                                    3448\n",
              "job_title                               195\n",
              "job_industry_category                     9\n",
              "wealth_segment                            3\n",
              "deceased_indicator                        2\n",
              "default                                  90\n",
              "owns_car                                  2\n",
              "tenure                                   22\n",
              "dtype: int64"
            ]
          },
          "metadata": {},
          "execution_count": 40
        }
      ]
    },
    {
      "cell_type": "markdown",
      "source": [
        "### **Exploring the columns**"
      ],
      "metadata": {
        "id": "nGj47FJi64rR"
      }
    },
    {
      "cell_type": "code",
      "source": [
        "CustomerDemographic.columns\n"
      ],
      "metadata": {
        "colab": {
          "base_uri": "https://localhost:8080/"
        },
        "id": "YqHQVC2Z64XB",
        "outputId": "420cb652-edf9-427f-c157-f5e2534defe5"
      },
      "execution_count": null,
      "outputs": [
        {
          "output_type": "execute_result",
          "data": {
            "text/plain": [
              "Index(['customer_id', 'first_name', 'last_name', 'gender',\n",
              "       'past_3_years_bike_related_purchases', 'DOB', 'job_title',\n",
              "       'job_industry_category', 'wealth_segment', 'deceased_indicator',\n",
              "       'default', 'owns_car', 'tenure'],\n",
              "      dtype='object')"
            ]
          },
          "metadata": {},
          "execution_count": 41
        }
      ]
    },
    {
      "cell_type": "code",
      "source": [
        "CustomerDemographic['gender'].value_counts()"
      ],
      "metadata": {
        "colab": {
          "base_uri": "https://localhost:8080/"
        },
        "id": "-_8JxWDO6_nB",
        "outputId": "20b39dc6-2dbe-4d31-ec20-bab0d5326a95"
      },
      "execution_count": null,
      "outputs": [
        {
          "output_type": "execute_result",
          "data": {
            "text/plain": [
              "Female    2037\n",
              "Male      1872\n",
              "U           88\n",
              "F            1\n",
              "Femal        1\n",
              "M            1\n",
              "Name: gender, dtype: int64"
            ]
          },
          "metadata": {},
          "execution_count": 42
        }
      ]
    },
    {
      "cell_type": "markdown",
      "source": [
        "### **certain categories are not correctly titled. The names in these categories are re-named.**"
      ],
      "metadata": {
        "id": "Cc7ireUS7DBI"
      }
    },
    {
      "cell_type": "code",
      "source": [
        "#Re-naming the categories\n",
        "CustomerDemographic['gender'] = CustomerDemographic['gender'].replace('F','Female').replace('M','Male').replace('Femal','Female').replace('U','Unspecified')\n",
        "CustomerDemographic['gender'].value_counts()"
      ],
      "metadata": {
        "colab": {
          "base_uri": "https://localhost:8080/"
        },
        "id": "kGxSWZaC7Igm",
        "outputId": "f1cc1ef9-ece7-42c5-d5ea-f0a5a1cd7d1d"
      },
      "execution_count": null,
      "outputs": [
        {
          "output_type": "execute_result",
          "data": {
            "text/plain": [
              "Female         2039\n",
              "Male           1873\n",
              "Unspecified      88\n",
              "Name: gender, dtype: int64"
            ]
          },
          "metadata": {},
          "execution_count": 43
        }
      ]
    },
    {
      "cell_type": "code",
      "source": [
        "CustomerDemographic['past_3_years_bike_related_purchases'].value_counts()"
      ],
      "metadata": {
        "colab": {
          "base_uri": "https://localhost:8080/"
        },
        "id": "HdQ121my7OI_",
        "outputId": "c69d7bd6-b032-4407-a30b-639dfec54b66"
      },
      "execution_count": null,
      "outputs": [
        {
          "output_type": "execute_result",
          "data": {
            "text/plain": [
              "16.0    56\n",
              "19.0    56\n",
              "67.0    54\n",
              "20.0    54\n",
              "2.0     50\n",
              "        ..\n",
              "8.0     28\n",
              "95.0    27\n",
              "85.0    27\n",
              "86.0    27\n",
              "92.0    24\n",
              "Name: past_3_years_bike_related_purchases, Length: 100, dtype: int64"
            ]
          },
          "metadata": {},
          "execution_count": 44
        }
      ]
    },
    {
      "cell_type": "code",
      "source": [
        "CustomerDemographic['DOB'].value_counts()"
      ],
      "metadata": {
        "colab": {
          "base_uri": "https://localhost:8080/"
        },
        "id": "IDsCI3OB7Qq2",
        "outputId": "e30cac91-a1f1-4777-c2aa-8eb3c98e4a89"
      },
      "execution_count": null,
      "outputs": [
        {
          "output_type": "execute_result",
          "data": {
            "text/plain": [
              "1978-01-30    7\n",
              "1964-07-08    4\n",
              "1962-12-17    4\n",
              "1978-08-19    4\n",
              "1977-05-13    4\n",
              "             ..\n",
              "1989-06-16    1\n",
              "1998-09-30    1\n",
              "1985-03-11    1\n",
              "1989-10-23    1\n",
              "1991-11-05    1\n",
              "Name: DOB, Length: 3448, dtype: int64"
            ]
          },
          "metadata": {},
          "execution_count": 45
        }
      ]
    },
    {
      "cell_type": "code",
      "source": [
        "CustomerDemographic['job_title'].value_counts()"
      ],
      "metadata": {
        "colab": {
          "base_uri": "https://localhost:8080/"
        },
        "id": "DXuWiM_j7ULL",
        "outputId": "78be3bdc-fb18-4860-8834-33ea72eec5bb"
      },
      "execution_count": null,
      "outputs": [
        {
          "output_type": "execute_result",
          "data": {
            "text/plain": [
              "Business Systems Development Analyst    45\n",
              "Tax Accountant                          44\n",
              "Social Worker                           44\n",
              "Internal Auditor                        42\n",
              "Recruiting Manager                      41\n",
              "                                        ..\n",
              "Database Administrator I                 4\n",
              "Health Coach I                           3\n",
              "Health Coach III                         3\n",
              "Research Assistant III                   3\n",
              "Developer I                              1\n",
              "Name: job_title, Length: 195, dtype: int64"
            ]
          },
          "metadata": {},
          "execution_count": 46
        }
      ]
    },
    {
      "cell_type": "code",
      "source": [
        "CustomerDemographic['job_industry_category'].value_counts()"
      ],
      "metadata": {
        "colab": {
          "base_uri": "https://localhost:8080/"
        },
        "id": "1-Pm0B_O7Xa3",
        "outputId": "d57c8301-bb30-4050-db4e-e468351d2354"
      },
      "execution_count": null,
      "outputs": [
        {
          "output_type": "execute_result",
          "data": {
            "text/plain": [
              "Manufacturing         799\n",
              "Financial Services    774\n",
              "Health                602\n",
              "Retail                358\n",
              "Property              267\n",
              "IT                    223\n",
              "Entertainment         136\n",
              "Argiculture           113\n",
              "Telecommunications     72\n",
              "Name: job_industry_category, dtype: int64"
            ]
          },
          "metadata": {},
          "execution_count": 47
        }
      ]
    },
    {
      "cell_type": "code",
      "source": [
        "CustomerDemographic['wealth_segment'].value_counts()"
      ],
      "metadata": {
        "colab": {
          "base_uri": "https://localhost:8080/"
        },
        "id": "go46l5s77Zo1",
        "outputId": "530057ab-cd17-4371-d998-e6c9d44b3da8"
      },
      "execution_count": null,
      "outputs": [
        {
          "output_type": "execute_result",
          "data": {
            "text/plain": [
              "Mass Customer        2000\n",
              "High Net Worth       1021\n",
              "Affluent Customer     979\n",
              "Name: wealth_segment, dtype: int64"
            ]
          },
          "metadata": {},
          "execution_count": 48
        }
      ]
    },
    {
      "cell_type": "code",
      "source": [
        "CustomerDemographic['deceased_indicator'].value_counts()"
      ],
      "metadata": {
        "colab": {
          "base_uri": "https://localhost:8080/"
        },
        "id": "cMwEyauD7cpc",
        "outputId": "a2322be0-1db1-4850-e7fc-bc84e287b3a2"
      },
      "execution_count": null,
      "outputs": [
        {
          "output_type": "execute_result",
          "data": {
            "text/plain": [
              "N    3998\n",
              "Y       2\n",
              "Name: deceased_indicator, dtype: int64"
            ]
          },
          "metadata": {},
          "execution_count": 49
        }
      ]
    },
    {
      "cell_type": "code",
      "source": [
        "CustomerDemographic['default'].value_counts()"
      ],
      "metadata": {
        "colab": {
          "base_uri": "https://localhost:8080/"
        },
        "id": "odEu1IRt7fa5",
        "outputId": "4b8c2123-74db-4072-8a64-bc747f678b9d"
      },
      "execution_count": null,
      "outputs": [
        {
          "output_type": "execute_result",
          "data": {
            "text/plain": [
              "100.0                                     113\n",
              "1.0                                       112\n",
              "-1.0                                      111\n",
              "-100.0                                     99\n",
              "Ù¡Ù¢Ù£                                     53\n",
              "                                         ... \n",
              "testâ testâ«                               31\n",
              "/dev/null; touch /tmp/blns.fail ; echo     30\n",
              "âªâªtestâª                                 29\n",
              "ì¸ëë°í ë¥´                                 27\n",
              ",ãã»:*:ã»ãâ( â» Ï â» )ãã»:*:ã»ãâ           25\n",
              "Name: default, Length: 90, dtype: int64"
            ]
          },
          "metadata": {},
          "execution_count": 50
        }
      ]
    },
    {
      "cell_type": "code",
      "source": [
        "ustomerDemographic = CustomerDemographic.drop('default', axis=1)"
      ],
      "metadata": {
        "id": "3dcRYWf67icE"
      },
      "execution_count": null,
      "outputs": []
    },
    {
      "cell_type": "markdown",
      "source": [
        "### **The values are inconsistent, hence dropping the column.**"
      ],
      "metadata": {
        "id": "Ql9VFb0-7lsl"
      }
    },
    {
      "cell_type": "code",
      "source": [
        "CustomerDemographic.head(5)"
      ],
      "metadata": {
        "colab": {
          "base_uri": "https://localhost:8080/",
          "height": 374
        },
        "id": "RdRDKcak7pX0",
        "outputId": "0b3aa27d-e6cf-400f-c306-53ea1876cfa3"
      },
      "execution_count": null,
      "outputs": [
        {
          "output_type": "execute_result",
          "data": {
            "text/plain": [
              "   customer_id      first_name  last_name  gender  \\\n",
              "0          1.0         Laraine  Medendorp  Female   \n",
              "1          2.0             Eli    Bockman    Male   \n",
              "2          3.0           Arlin     Dearle    Male   \n",
              "3          4.0          Talbot        NaN    Male   \n",
              "4          5.0  Sheila-kathryn     Calton  Female   \n",
              "\n",
              "   past_3_years_bike_related_purchases        DOB               job_title  \\\n",
              "0                                 93.0 1953-10-12     Executive Secretary   \n",
              "1                                 81.0 1980-12-16  Administrative Officer   \n",
              "2                                 61.0 1954-01-20      Recruiting Manager   \n",
              "3                                 33.0 1961-10-03                     NaN   \n",
              "4                                 56.0 1977-05-13           Senior Editor   \n",
              "\n",
              "  job_industry_category     wealth_segment deceased_indicator  \\\n",
              "0                Health      Mass Customer                  N   \n",
              "1    Financial Services      Mass Customer                  N   \n",
              "2              Property      Mass Customer                  N   \n",
              "3                    IT      Mass Customer                  N   \n",
              "4                   NaN  Affluent Customer                  N   \n",
              "\n",
              "                                             default owns_car  tenure  \n",
              "0                                                 \"'      Yes    11.0  \n",
              "1                       <script>alert('hi')</script>      Yes    16.0  \n",
              "2                                2018-02-01 00:00:00      Yes    15.0  \n",
              "3  () { _; } >_[$($())] { touch /tmp/blns.shellsh...       No     7.0  \n",
              "4                                                NIL      Yes     8.0  "
            ],
            "text/html": [
              "\n",
              "  <div id=\"df-57fb41b7-0e57-41da-8eba-fe7028281959\">\n",
              "    <div class=\"colab-df-container\">\n",
              "      <div>\n",
              "<style scoped>\n",
              "    .dataframe tbody tr th:only-of-type {\n",
              "        vertical-align: middle;\n",
              "    }\n",
              "\n",
              "    .dataframe tbody tr th {\n",
              "        vertical-align: top;\n",
              "    }\n",
              "\n",
              "    .dataframe thead th {\n",
              "        text-align: right;\n",
              "    }\n",
              "</style>\n",
              "<table border=\"1\" class=\"dataframe\">\n",
              "  <thead>\n",
              "    <tr style=\"text-align: right;\">\n",
              "      <th></th>\n",
              "      <th>customer_id</th>\n",
              "      <th>first_name</th>\n",
              "      <th>last_name</th>\n",
              "      <th>gender</th>\n",
              "      <th>past_3_years_bike_related_purchases</th>\n",
              "      <th>DOB</th>\n",
              "      <th>job_title</th>\n",
              "      <th>job_industry_category</th>\n",
              "      <th>wealth_segment</th>\n",
              "      <th>deceased_indicator</th>\n",
              "      <th>default</th>\n",
              "      <th>owns_car</th>\n",
              "      <th>tenure</th>\n",
              "    </tr>\n",
              "  </thead>\n",
              "  <tbody>\n",
              "    <tr>\n",
              "      <th>0</th>\n",
              "      <td>1.0</td>\n",
              "      <td>Laraine</td>\n",
              "      <td>Medendorp</td>\n",
              "      <td>Female</td>\n",
              "      <td>93.0</td>\n",
              "      <td>1953-10-12</td>\n",
              "      <td>Executive Secretary</td>\n",
              "      <td>Health</td>\n",
              "      <td>Mass Customer</td>\n",
              "      <td>N</td>\n",
              "      <td>\"'</td>\n",
              "      <td>Yes</td>\n",
              "      <td>11.0</td>\n",
              "    </tr>\n",
              "    <tr>\n",
              "      <th>1</th>\n",
              "      <td>2.0</td>\n",
              "      <td>Eli</td>\n",
              "      <td>Bockman</td>\n",
              "      <td>Male</td>\n",
              "      <td>81.0</td>\n",
              "      <td>1980-12-16</td>\n",
              "      <td>Administrative Officer</td>\n",
              "      <td>Financial Services</td>\n",
              "      <td>Mass Customer</td>\n",
              "      <td>N</td>\n",
              "      <td>&lt;script&gt;alert('hi')&lt;/script&gt;</td>\n",
              "      <td>Yes</td>\n",
              "      <td>16.0</td>\n",
              "    </tr>\n",
              "    <tr>\n",
              "      <th>2</th>\n",
              "      <td>3.0</td>\n",
              "      <td>Arlin</td>\n",
              "      <td>Dearle</td>\n",
              "      <td>Male</td>\n",
              "      <td>61.0</td>\n",
              "      <td>1954-01-20</td>\n",
              "      <td>Recruiting Manager</td>\n",
              "      <td>Property</td>\n",
              "      <td>Mass Customer</td>\n",
              "      <td>N</td>\n",
              "      <td>2018-02-01 00:00:00</td>\n",
              "      <td>Yes</td>\n",
              "      <td>15.0</td>\n",
              "    </tr>\n",
              "    <tr>\n",
              "      <th>3</th>\n",
              "      <td>4.0</td>\n",
              "      <td>Talbot</td>\n",
              "      <td>NaN</td>\n",
              "      <td>Male</td>\n",
              "      <td>33.0</td>\n",
              "      <td>1961-10-03</td>\n",
              "      <td>NaN</td>\n",
              "      <td>IT</td>\n",
              "      <td>Mass Customer</td>\n",
              "      <td>N</td>\n",
              "      <td>() { _; } &gt;_[$($())] { touch /tmp/blns.shellsh...</td>\n",
              "      <td>No</td>\n",
              "      <td>7.0</td>\n",
              "    </tr>\n",
              "    <tr>\n",
              "      <th>4</th>\n",
              "      <td>5.0</td>\n",
              "      <td>Sheila-kathryn</td>\n",
              "      <td>Calton</td>\n",
              "      <td>Female</td>\n",
              "      <td>56.0</td>\n",
              "      <td>1977-05-13</td>\n",
              "      <td>Senior Editor</td>\n",
              "      <td>NaN</td>\n",
              "      <td>Affluent Customer</td>\n",
              "      <td>N</td>\n",
              "      <td>NIL</td>\n",
              "      <td>Yes</td>\n",
              "      <td>8.0</td>\n",
              "    </tr>\n",
              "  </tbody>\n",
              "</table>\n",
              "</div>\n",
              "      <button class=\"colab-df-convert\" onclick=\"convertToInteractive('df-57fb41b7-0e57-41da-8eba-fe7028281959')\"\n",
              "              title=\"Convert this dataframe to an interactive table.\"\n",
              "              style=\"display:none;\">\n",
              "        \n",
              "  <svg xmlns=\"http://www.w3.org/2000/svg\" height=\"24px\"viewBox=\"0 0 24 24\"\n",
              "       width=\"24px\">\n",
              "    <path d=\"M0 0h24v24H0V0z\" fill=\"none\"/>\n",
              "    <path d=\"M18.56 5.44l.94 2.06.94-2.06 2.06-.94-2.06-.94-.94-2.06-.94 2.06-2.06.94zm-11 1L8.5 8.5l.94-2.06 2.06-.94-2.06-.94L8.5 2.5l-.94 2.06-2.06.94zm10 10l.94 2.06.94-2.06 2.06-.94-2.06-.94-.94-2.06-.94 2.06-2.06.94z\"/><path d=\"M17.41 7.96l-1.37-1.37c-.4-.4-.92-.59-1.43-.59-.52 0-1.04.2-1.43.59L10.3 9.45l-7.72 7.72c-.78.78-.78 2.05 0 2.83L4 21.41c.39.39.9.59 1.41.59.51 0 1.02-.2 1.41-.59l7.78-7.78 2.81-2.81c.8-.78.8-2.07 0-2.86zM5.41 20L4 18.59l7.72-7.72 1.47 1.35L5.41 20z\"/>\n",
              "  </svg>\n",
              "      </button>\n",
              "      \n",
              "  <style>\n",
              "    .colab-df-container {\n",
              "      display:flex;\n",
              "      flex-wrap:wrap;\n",
              "      gap: 12px;\n",
              "    }\n",
              "\n",
              "    .colab-df-convert {\n",
              "      background-color: #E8F0FE;\n",
              "      border: none;\n",
              "      border-radius: 50%;\n",
              "      cursor: pointer;\n",
              "      display: none;\n",
              "      fill: #1967D2;\n",
              "      height: 32px;\n",
              "      padding: 0 0 0 0;\n",
              "      width: 32px;\n",
              "    }\n",
              "\n",
              "    .colab-df-convert:hover {\n",
              "      background-color: #E2EBFA;\n",
              "      box-shadow: 0px 1px 2px rgba(60, 64, 67, 0.3), 0px 1px 3px 1px rgba(60, 64, 67, 0.15);\n",
              "      fill: #174EA6;\n",
              "    }\n",
              "\n",
              "    [theme=dark] .colab-df-convert {\n",
              "      background-color: #3B4455;\n",
              "      fill: #D2E3FC;\n",
              "    }\n",
              "\n",
              "    [theme=dark] .colab-df-convert:hover {\n",
              "      background-color: #434B5C;\n",
              "      box-shadow: 0px 1px 3px 1px rgba(0, 0, 0, 0.15);\n",
              "      filter: drop-shadow(0px 1px 2px rgba(0, 0, 0, 0.3));\n",
              "      fill: #FFFFFF;\n",
              "    }\n",
              "  </style>\n",
              "\n",
              "      <script>\n",
              "        const buttonEl =\n",
              "          document.querySelector('#df-57fb41b7-0e57-41da-8eba-fe7028281959 button.colab-df-convert');\n",
              "        buttonEl.style.display =\n",
              "          google.colab.kernel.accessAllowed ? 'block' : 'none';\n",
              "\n",
              "        async function convertToInteractive(key) {\n",
              "          const element = document.querySelector('#df-57fb41b7-0e57-41da-8eba-fe7028281959');\n",
              "          const dataTable =\n",
              "            await google.colab.kernel.invokeFunction('convertToInteractive',\n",
              "                                                     [key], {});\n",
              "          if (!dataTable) return;\n",
              "\n",
              "          const docLinkHtml = 'Like what you see? Visit the ' +\n",
              "            '<a target=\"_blank\" href=https://colab.research.google.com/notebooks/data_table.ipynb>data table notebook</a>'\n",
              "            + ' to learn more about interactive tables.';\n",
              "          element.innerHTML = '';\n",
              "          dataTable['output_type'] = 'display_data';\n",
              "          await google.colab.output.renderOutput(dataTable, element);\n",
              "          const docLink = document.createElement('div');\n",
              "          docLink.innerHTML = docLinkHtml;\n",
              "          element.appendChild(docLink);\n",
              "        }\n",
              "      </script>\n",
              "    </div>\n",
              "  </div>\n",
              "  "
            ]
          },
          "metadata": {},
          "execution_count": 52
        }
      ]
    },
    {
      "cell_type": "code",
      "source": [
        "CustomerDemographic['owns_car'].value_counts()"
      ],
      "metadata": {
        "colab": {
          "base_uri": "https://localhost:8080/"
        },
        "id": "Wkgl7Xo17tMz",
        "outputId": "ae447a12-862f-4853-d5c5-d5175978e466"
      },
      "execution_count": null,
      "outputs": [
        {
          "output_type": "execute_result",
          "data": {
            "text/plain": [
              "Yes    2024\n",
              "No     1976\n",
              "Name: owns_car, dtype: int64"
            ]
          },
          "metadata": {},
          "execution_count": 53
        }
      ]
    },
    {
      "cell_type": "code",
      "source": [
        "CustomerDemographic['tenure'].value_counts()"
      ],
      "metadata": {
        "colab": {
          "base_uri": "https://localhost:8080/"
        },
        "id": "xKOzFyiu7vGq",
        "outputId": "c91e5f69-e0c7-46fe-d32c-1142caba69f3"
      },
      "execution_count": null,
      "outputs": [
        {
          "output_type": "execute_result",
          "data": {
            "text/plain": [
              "7.0     235\n",
              "5.0     228\n",
              "11.0    221\n",
              "10.0    218\n",
              "16.0    215\n",
              "8.0     211\n",
              "18.0    208\n",
              "12.0    202\n",
              "9.0     200\n",
              "14.0    200\n",
              "6.0     192\n",
              "13.0    191\n",
              "4.0     191\n",
              "17.0    182\n",
              "15.0    179\n",
              "1.0     166\n",
              "3.0     160\n",
              "19.0    159\n",
              "2.0     150\n",
              "20.0     96\n",
              "22.0     55\n",
              "21.0     54\n",
              "Name: tenure, dtype: int64"
            ]
          },
          "metadata": {},
          "execution_count": 54
        }
      ]
    },
    {
      "cell_type": "markdown",
      "source": [
        "## **Exploring Customer Address Data Set**"
      ],
      "metadata": {
        "id": "DPVjWCPc7zJ9"
      }
    },
    {
      "cell_type": "code",
      "source": [
        "CustomerAddress.head(5)"
      ],
      "metadata": {
        "colab": {
          "base_uri": "https://localhost:8080/",
          "height": 302
        },
        "id": "d70Vm_E2711X",
        "outputId": "cdd26e36-5683-4cc7-8dfe-cf6995dfaa2a"
      },
      "execution_count": null,
      "outputs": [
        {
          "output_type": "execute_result",
          "data": {
            "text/plain": [
              "   customer_id              address  postcode            state    country  \\\n",
              "0          1.0   060 Morning Avenue    2016.0  New South Wales  Australia   \n",
              "1          2.0  6 Meadow Vale Court    2153.0  New South Wales  Australia   \n",
              "2          4.0   0 Holy Cross Court    4211.0              QLD  Australia   \n",
              "3          5.0  17979 Del Mar Point    2448.0  New South Wales  Australia   \n",
              "4          6.0     9 Oakridge Court    3216.0              VIC  Australia   \n",
              "\n",
              "   property_valuation  \n",
              "0                10.0  \n",
              "1                10.0  \n",
              "2                 9.0  \n",
              "3                 4.0  \n",
              "4                 9.0  "
            ],
            "text/html": [
              "\n",
              "  <div id=\"df-60fd8a39-c3f7-460f-b7b3-656c139d2c9e\">\n",
              "    <div class=\"colab-df-container\">\n",
              "      <div>\n",
              "<style scoped>\n",
              "    .dataframe tbody tr th:only-of-type {\n",
              "        vertical-align: middle;\n",
              "    }\n",
              "\n",
              "    .dataframe tbody tr th {\n",
              "        vertical-align: top;\n",
              "    }\n",
              "\n",
              "    .dataframe thead th {\n",
              "        text-align: right;\n",
              "    }\n",
              "</style>\n",
              "<table border=\"1\" class=\"dataframe\">\n",
              "  <thead>\n",
              "    <tr style=\"text-align: right;\">\n",
              "      <th></th>\n",
              "      <th>customer_id</th>\n",
              "      <th>address</th>\n",
              "      <th>postcode</th>\n",
              "      <th>state</th>\n",
              "      <th>country</th>\n",
              "      <th>property_valuation</th>\n",
              "    </tr>\n",
              "  </thead>\n",
              "  <tbody>\n",
              "    <tr>\n",
              "      <th>0</th>\n",
              "      <td>1.0</td>\n",
              "      <td>060 Morning Avenue</td>\n",
              "      <td>2016.0</td>\n",
              "      <td>New South Wales</td>\n",
              "      <td>Australia</td>\n",
              "      <td>10.0</td>\n",
              "    </tr>\n",
              "    <tr>\n",
              "      <th>1</th>\n",
              "      <td>2.0</td>\n",
              "      <td>6 Meadow Vale Court</td>\n",
              "      <td>2153.0</td>\n",
              "      <td>New South Wales</td>\n",
              "      <td>Australia</td>\n",
              "      <td>10.0</td>\n",
              "    </tr>\n",
              "    <tr>\n",
              "      <th>2</th>\n",
              "      <td>4.0</td>\n",
              "      <td>0 Holy Cross Court</td>\n",
              "      <td>4211.0</td>\n",
              "      <td>QLD</td>\n",
              "      <td>Australia</td>\n",
              "      <td>9.0</td>\n",
              "    </tr>\n",
              "    <tr>\n",
              "      <th>3</th>\n",
              "      <td>5.0</td>\n",
              "      <td>17979 Del Mar Point</td>\n",
              "      <td>2448.0</td>\n",
              "      <td>New South Wales</td>\n",
              "      <td>Australia</td>\n",
              "      <td>4.0</td>\n",
              "    </tr>\n",
              "    <tr>\n",
              "      <th>4</th>\n",
              "      <td>6.0</td>\n",
              "      <td>9 Oakridge Court</td>\n",
              "      <td>3216.0</td>\n",
              "      <td>VIC</td>\n",
              "      <td>Australia</td>\n",
              "      <td>9.0</td>\n",
              "    </tr>\n",
              "  </tbody>\n",
              "</table>\n",
              "</div>\n",
              "      <button class=\"colab-df-convert\" onclick=\"convertToInteractive('df-60fd8a39-c3f7-460f-b7b3-656c139d2c9e')\"\n",
              "              title=\"Convert this dataframe to an interactive table.\"\n",
              "              style=\"display:none;\">\n",
              "        \n",
              "  <svg xmlns=\"http://www.w3.org/2000/svg\" height=\"24px\"viewBox=\"0 0 24 24\"\n",
              "       width=\"24px\">\n",
              "    <path d=\"M0 0h24v24H0V0z\" fill=\"none\"/>\n",
              "    <path d=\"M18.56 5.44l.94 2.06.94-2.06 2.06-.94-2.06-.94-.94-2.06-.94 2.06-2.06.94zm-11 1L8.5 8.5l.94-2.06 2.06-.94-2.06-.94L8.5 2.5l-.94 2.06-2.06.94zm10 10l.94 2.06.94-2.06 2.06-.94-2.06-.94-.94-2.06-.94 2.06-2.06.94z\"/><path d=\"M17.41 7.96l-1.37-1.37c-.4-.4-.92-.59-1.43-.59-.52 0-1.04.2-1.43.59L10.3 9.45l-7.72 7.72c-.78.78-.78 2.05 0 2.83L4 21.41c.39.39.9.59 1.41.59.51 0 1.02-.2 1.41-.59l7.78-7.78 2.81-2.81c.8-.78.8-2.07 0-2.86zM5.41 20L4 18.59l7.72-7.72 1.47 1.35L5.41 20z\"/>\n",
              "  </svg>\n",
              "      </button>\n",
              "      \n",
              "  <style>\n",
              "    .colab-df-container {\n",
              "      display:flex;\n",
              "      flex-wrap:wrap;\n",
              "      gap: 12px;\n",
              "    }\n",
              "\n",
              "    .colab-df-convert {\n",
              "      background-color: #E8F0FE;\n",
              "      border: none;\n",
              "      border-radius: 50%;\n",
              "      cursor: pointer;\n",
              "      display: none;\n",
              "      fill: #1967D2;\n",
              "      height: 32px;\n",
              "      padding: 0 0 0 0;\n",
              "      width: 32px;\n",
              "    }\n",
              "\n",
              "    .colab-df-convert:hover {\n",
              "      background-color: #E2EBFA;\n",
              "      box-shadow: 0px 1px 2px rgba(60, 64, 67, 0.3), 0px 1px 3px 1px rgba(60, 64, 67, 0.15);\n",
              "      fill: #174EA6;\n",
              "    }\n",
              "\n",
              "    [theme=dark] .colab-df-convert {\n",
              "      background-color: #3B4455;\n",
              "      fill: #D2E3FC;\n",
              "    }\n",
              "\n",
              "    [theme=dark] .colab-df-convert:hover {\n",
              "      background-color: #434B5C;\n",
              "      box-shadow: 0px 1px 3px 1px rgba(0, 0, 0, 0.15);\n",
              "      filter: drop-shadow(0px 1px 2px rgba(0, 0, 0, 0.3));\n",
              "      fill: #FFFFFF;\n",
              "    }\n",
              "  </style>\n",
              "\n",
              "      <script>\n",
              "        const buttonEl =\n",
              "          document.querySelector('#df-60fd8a39-c3f7-460f-b7b3-656c139d2c9e button.colab-df-convert');\n",
              "        buttonEl.style.display =\n",
              "          google.colab.kernel.accessAllowed ? 'block' : 'none';\n",
              "\n",
              "        async function convertToInteractive(key) {\n",
              "          const element = document.querySelector('#df-60fd8a39-c3f7-460f-b7b3-656c139d2c9e');\n",
              "          const dataTable =\n",
              "            await google.colab.kernel.invokeFunction('convertToInteractive',\n",
              "                                                     [key], {});\n",
              "          if (!dataTable) return;\n",
              "\n",
              "          const docLinkHtml = 'Like what you see? Visit the ' +\n",
              "            '<a target=\"_blank\" href=https://colab.research.google.com/notebooks/data_table.ipynb>data table notebook</a>'\n",
              "            + ' to learn more about interactive tables.';\n",
              "          element.innerHTML = '';\n",
              "          dataTable['output_type'] = 'display_data';\n",
              "          await google.colab.output.renderOutput(dataTable, element);\n",
              "          const docLink = document.createElement('div');\n",
              "          docLink.innerHTML = docLinkHtml;\n",
              "          element.appendChild(docLink);\n",
              "        }\n",
              "      </script>\n",
              "    </div>\n",
              "  </div>\n",
              "  "
            ]
          },
          "metadata": {},
          "execution_count": 55
        }
      ]
    },
    {
      "cell_type": "code",
      "source": [
        "CustomerAddress.info()"
      ],
      "metadata": {
        "colab": {
          "base_uri": "https://localhost:8080/"
        },
        "id": "O859NFiV75v2",
        "outputId": "6b2375de-019a-4dfd-cf08-bff1e495fcfb"
      },
      "execution_count": null,
      "outputs": [
        {
          "output_type": "stream",
          "name": "stdout",
          "text": [
            "<class 'pandas.core.frame.DataFrame'>\n",
            "RangeIndex: 3999 entries, 0 to 3998\n",
            "Data columns (total 6 columns):\n",
            " #   Column              Non-Null Count  Dtype  \n",
            "---  ------              --------------  -----  \n",
            " 0   customer_id         3999 non-null   float64\n",
            " 1   address             3999 non-null   object \n",
            " 2   postcode            3999 non-null   float64\n",
            " 3   state               3999 non-null   object \n",
            " 4   country             3999 non-null   object \n",
            " 5   property_valuation  3999 non-null   float64\n",
            "dtypes: float64(3), object(3)\n",
            "memory usage: 187.6+ KB\n"
          ]
        }
      ]
    },
    {
      "cell_type": "code",
      "source": [
        "#Checking for null values.\n",
        "CustomerAddress.isnull().sum()"
      ],
      "metadata": {
        "colab": {
          "base_uri": "https://localhost:8080/"
        },
        "id": "1Le0dT-Z78ND",
        "outputId": "b38d84a8-e02c-4443-dfab-40725d5f3702"
      },
      "execution_count": null,
      "outputs": [
        {
          "output_type": "execute_result",
          "data": {
            "text/plain": [
              "customer_id           0\n",
              "address               0\n",
              "postcode              0\n",
              "state                 0\n",
              "country               0\n",
              "property_valuation    0\n",
              "dtype: int64"
            ]
          },
          "metadata": {},
          "execution_count": 57
        }
      ]
    },
    {
      "cell_type": "markdown",
      "source": [
        "### **There are no null values.**"
      ],
      "metadata": {
        "id": "3AXnBg598CNg"
      }
    },
    {
      "cell_type": "code",
      "source": [
        "#Checking for duplicate values\n",
        "CustomerAddress.duplicated().sum()"
      ],
      "metadata": {
        "colab": {
          "base_uri": "https://localhost:8080/"
        },
        "id": "fpzNa36b8FZh",
        "outputId": "b7ecf5c8-02f4-468e-8674-a05bb58988a8"
      },
      "execution_count": null,
      "outputs": [
        {
          "output_type": "execute_result",
          "data": {
            "text/plain": [
              "0"
            ]
          },
          "metadata": {},
          "execution_count": 58
        }
      ]
    },
    {
      "cell_type": "markdown",
      "source": [
        "### **There are no duplicate values.**"
      ],
      "metadata": {
        "id": "XFg2Oppc8Itt"
      }
    },
    {
      "cell_type": "code",
      "source": [
        "#Checking for uniqueness of each column\n",
        "CustomerAddress.nunique()"
      ],
      "metadata": {
        "colab": {
          "base_uri": "https://localhost:8080/"
        },
        "id": "gTnCdLrC8LKY",
        "outputId": "00f76212-caf5-4f4b-ab9e-341567aa6737"
      },
      "execution_count": null,
      "outputs": [
        {
          "output_type": "execute_result",
          "data": {
            "text/plain": [
              "customer_id           3999\n",
              "address               3996\n",
              "postcode               873\n",
              "state                    5\n",
              "country                  1\n",
              "property_valuation      12\n",
              "dtype: int64"
            ]
          },
          "metadata": {},
          "execution_count": 59
        }
      ]
    },
    {
      "cell_type": "markdown",
      "source": [
        "## **Exploring the columns**"
      ],
      "metadata": {
        "id": "H40rWWou8QJi"
      }
    },
    {
      "cell_type": "code",
      "source": [
        "CustomerAddress['postcode'].value_counts()"
      ],
      "metadata": {
        "colab": {
          "base_uri": "https://localhost:8080/"
        },
        "id": "4YBHkW6N8UVp",
        "outputId": "fcac1451-a6db-480f-8078-157157ff7aea"
      },
      "execution_count": null,
      "outputs": [
        {
          "output_type": "execute_result",
          "data": {
            "text/plain": [
              "2170.0    31\n",
              "2155.0    30\n",
              "2145.0    30\n",
              "2153.0    29\n",
              "3977.0    26\n",
              "          ..\n",
              "3808.0     1\n",
              "3114.0     1\n",
              "4721.0     1\n",
              "4799.0     1\n",
              "3089.0     1\n",
              "Name: postcode, Length: 873, dtype: int64"
            ]
          },
          "metadata": {},
          "execution_count": 60
        }
      ]
    },
    {
      "cell_type": "code",
      "source": [
        "CustomerAddress['state'].value_counts()"
      ],
      "metadata": {
        "colab": {
          "base_uri": "https://localhost:8080/"
        },
        "id": "TDhsk_q18WZC",
        "outputId": "8722df25-f3fc-4d49-eda7-8a69d79728ec"
      },
      "execution_count": null,
      "outputs": [
        {
          "output_type": "execute_result",
          "data": {
            "text/plain": [
              "NSW                2054\n",
              "VIC                 939\n",
              "QLD                 838\n",
              "New South Wales      86\n",
              "Victoria             82\n",
              "Name: state, dtype: int64"
            ]
          },
          "metadata": {},
          "execution_count": 61
        }
      ]
    },
    {
      "cell_type": "code",
      "source": [
        "CustomerAddress['country'].value_counts()"
      ],
      "metadata": {
        "colab": {
          "base_uri": "https://localhost:8080/"
        },
        "id": "RTCx5gff8Z6E",
        "outputId": "07d88254-d6b0-4162-e4bf-72e7da8f693c"
      },
      "execution_count": null,
      "outputs": [
        {
          "output_type": "execute_result",
          "data": {
            "text/plain": [
              "Australia    3999\n",
              "Name: country, dtype: int64"
            ]
          },
          "metadata": {},
          "execution_count": 62
        }
      ]
    },
    {
      "cell_type": "code",
      "source": [
        "CustomerAddress['property_valuation'].value_counts()"
      ],
      "metadata": {
        "colab": {
          "base_uri": "https://localhost:8080/"
        },
        "id": "_-dXIGgF8b4z",
        "outputId": "89d0a933-ffed-43d1-810a-60bde61324c1"
      },
      "execution_count": null,
      "outputs": [
        {
          "output_type": "execute_result",
          "data": {
            "text/plain": [
              "9.0     647\n",
              "8.0     646\n",
              "10.0    577\n",
              "7.0     493\n",
              "11.0    281\n",
              "6.0     238\n",
              "5.0     225\n",
              "4.0     214\n",
              "12.0    195\n",
              "3.0     186\n",
              "1.0     154\n",
              "2.0     143\n",
              "Name: property_valuation, dtype: int64"
            ]
          },
          "metadata": {},
          "execution_count": 63
        }
      ]
    },
    {
      "cell_type": "markdown",
      "source": [
        "### **All the columns appear to have consistent and correct information**"
      ],
      "metadata": {
        "id": "dNM_cfL98fIe"
      }
    },
    {
      "cell_type": "markdown",
      "source": [
        "# **TASK: 2 - Data Insights**\n",
        "## **Targeting high value customers based on customer demographics and attributes.**"
      ],
      "metadata": {
        "id": "7-3ClVpV8ihO"
      }
    },
    {
      "cell_type": "code",
      "source": [],
      "metadata": {
        "id": "ETWEr7Cs8pDG"
      },
      "execution_count": null,
      "outputs": []
    }
  ]
}